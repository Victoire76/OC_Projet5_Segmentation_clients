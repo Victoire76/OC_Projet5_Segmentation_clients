{
 "cells": [
  {
   "cell_type": "markdown",
   "id": "6b2d4dd6",
   "metadata": {},
   "source": [
    "# Sommaire \n",
    "#### Que veut dire la stabilité temporelle de la segmentation¶? \n",
    "#### Créer des dataframes mensuels \n",
    "#### Tester le modèle en fonction d'une période donnée\n",
    "#### Prediction de labels_true et  labels_pred  \n",
    "#### Calcul de ARI mensuel\n",
    "#### Conclusion"
   ]
  },
  {
   "cell_type": "code",
   "execution_count": 1,
   "id": "4ed8bc8b",
   "metadata": {},
   "outputs": [],
   "source": [
    "#Importer les librairies\n",
    "\n",
    "import pandas as pd \n",
    "import numpy as np\n",
    "import seaborn as sns\n",
    "import matplotlib.pyplot as plt\n",
    "from matplotlib.colors import ListedColormap\n",
    "\n",
    "from time import time\n",
    "\n",
    "import datetime\n",
    "from datetime import datetime as dt\n",
    "from scipy import stats\n",
    "import warnings\n",
    "warnings.filterwarnings('ignore')\n",
    "\n",
    "from sklearn.cluster import KMeans\n",
    "\n",
    "from sklearn.preprocessing import MinMaxScaler, StandardScaler\n",
    "\n",
    "from sklearn.metrics import adjusted_rand_score\n",
    "\n",
    "from scipy.spatial.distance import cdist  "
   ]
  },
  {
   "cell_type": "markdown",
   "id": "139b8519",
   "metadata": {},
   "source": [
    "## Que veut dire la stabilité temporelle de la segmentation¶? "
   ]
  },
  {
   "cell_type": "markdown",
   "id": "07efe006",
   "metadata": {},
   "source": [
    "- Afin d'établir le contrat de maintenance de l'algorithme de segmentation des clients, il faut tester sa stabilité dans le temps et voir, par exemple, à quel moment les clients changent de Cluster.\n",
    "\n",
    "- L’objectif est de déterminer au bout de combien de temps le modèle de clustering entraîné initialement proposé (donc « fit ») devient obsolète nécessitant d’entraîner un nouveau modèle de clustering"
   ]
  },
  {
   "cell_type": "code",
   "execution_count": 2,
   "id": "c52b5e0c",
   "metadata": {},
   "outputs": [],
   "source": [
    "df = pd.read_csv(r\"C:\\Users\\faeze\\OneDrive\\Documents\\OC data science\\PROJECT\\Projet5\\rfm_df.csv\")"
   ]
  },
  {
   "cell_type": "code",
   "execution_count": 3,
   "id": "29cfcf5b",
   "metadata": {},
   "outputs": [
    {
     "name": "stdout",
     "output_type": "stream",
     "text": [
      "<class 'pandas.core.frame.DataFrame'>\n",
      "RangeIndex: 92746 entries, 0 to 92745\n",
      "Data columns (total 14 columns):\n",
      " #   Column                Non-Null Count  Dtype  \n",
      "---  ------                --------------  -----  \n",
      " 0   Unnamed: 0            92746 non-null  int64  \n",
      " 1   customer_unique_id    92746 non-null  object \n",
      " 2   total_montant         92746 non-null  float64\n",
      " 3   delivery_days         92746 non-null  float64\n",
      " 4   payment_installments  92746 non-null  float64\n",
      " 5   month                 92746 non-null  int64  \n",
      " 6   year                  92746 non-null  int64  \n",
      " 7   month_year            92746 non-null  object \n",
      " 8   frequence             92746 non-null  int64  \n",
      " 9   Note_Moy_Com          92746 non-null  float64\n",
      " 10  recence               92746 non-null  int64  \n",
      " 11  nbr_commande          92746 non-null  int64  \n",
      " 12  Nbr_produits          92746 non-null  int64  \n",
      " 13  panier_moyen          92746 non-null  float64\n",
      "dtypes: float64(5), int64(7), object(2)\n",
      "memory usage: 9.9+ MB\n"
     ]
    }
   ],
   "source": [
    "df.info()"
   ]
  },
  {
   "cell_type": "markdown",
   "id": "de059e74",
   "metadata": {},
   "source": [
    "### Créer les données mensuelles "
   ]
  },
  {
   "cell_type": "code",
   "execution_count": 5,
   "id": "b1f950c6",
   "metadata": {},
   "outputs": [],
   "source": [
    "dff = []\n",
    "\n",
    "for i in range(0,10):\n",
    "    dff.append(pd.DataFrame())\n",
    "\n",
    "dff[0] = df[df['year'] == 2017][['frequence','recence','panier_moyen']]\n",
    "\n",
    "for i in range(1, 10):\n",
    "    dff[i] = df[(df['month_year'] == '2018-0%s' %i)][['frequence', 'recence','panier_moyen']].append(dff[i-1]).sort_index()"
   ]
  },
  {
   "cell_type": "markdown",
   "id": "7b5181fd",
   "metadata": {},
   "source": [
    "## Tester le modèle en fonction d'une période donnée"
   ]
  },
  {
   "cell_type": "code",
   "execution_count": 6,
   "id": "2dacf133",
   "metadata": {},
   "outputs": [
    {
     "name": "stdout",
     "output_type": "stream",
     "text": [
      "CPU times: total: 41 s\n",
      "Wall time: 6.26 s\n"
     ]
    }
   ],
   "source": [
    "%%time\n",
    "\n",
    "#initiate dataframes \n",
    "\n",
    "dfn = []  # n for normatized\n",
    "model = []\n",
    "\n",
    "for i in range(0, 10):\n",
    " \n",
    "    # normalize the data\n",
    "    scaler = StandardScaler()\n",
    "    minmax = MinMaxScaler()\n",
    "    dfn.append(pd.DataFrame())\n",
    "    dfn[i] = minmax.fit_transform(dff[i]) \n",
    "\n",
    "    # fit the clustering model \"m0\"\n",
    "    m = KMeans(n_clusters = 5).fit(dfn[i])\n",
    "    model.append(m)"
   ]
  },
  {
   "cell_type": "markdown",
   "id": "18e3b517",
   "metadata": {},
   "source": [
    "##  Prediction de labels_true et  labels_pred  "
   ]
  },
  {
   "cell_type": "code",
   "execution_count": 7,
   "id": "57394c7e",
   "metadata": {},
   "outputs": [
    {
     "name": "stdout",
     "output_type": "stream",
     "text": [
      "(41192,)\n",
      "(41192,)\n",
      "(47977,)\n",
      "(47977,)\n",
      "(54218,)\n",
      "(54218,)\n",
      "(60991,)\n",
      "(60991,)\n",
      "(67595,)\n",
      "(67595,)\n",
      "(74193,)\n",
      "(74193,)\n",
      "(80184,)\n",
      "(80184,)\n",
      "(86207,)\n",
      "(86207,)\n",
      "(92496,)\n",
      "(92496,)\n",
      "(92496,)\n",
      "(92496,)\n"
     ]
    }
   ],
   "source": [
    "labels_true = []\n",
    "labels_pred = []\n",
    "\n",
    "for i in range(10):\n",
    "    true=model[i].predict(dfn[i])\n",
    "    labels_true.append(true)\n",
    "    pred=model[0].predict(dfn[i])\n",
    "    labels_pred.append(pred)\n",
    "    print(labels_true[i].shape)\n",
    "    print(labels_pred[i].shape)"
   ]
  },
  {
   "cell_type": "markdown",
   "id": "9de1de8b",
   "metadata": {},
   "source": [
    "## Calcul de ARI mensuel "
   ]
  },
  {
   "cell_type": "code",
   "execution_count": 8,
   "id": "c5e93af9",
   "metadata": {},
   "outputs": [],
   "source": [
    "ari=[]\n",
    "for i in range(10):\n",
    "    ari.append(adjusted_rand_score(labels_true[i], labels_pred[i]))"
   ]
  },
  {
   "cell_type": "code",
   "execution_count": 9,
   "id": "7fdbcff5",
   "metadata": {},
   "outputs": [],
   "source": [
    "df_ari = pd.DataFrame(pd.Series(ari)).reset_index()\n",
    "df_ari.columns = ['Month', 'ari_score']\n",
    "df_ari = df_ari.sort_values(by = 'ari_score', ascending = False)"
   ]
  },
  {
   "cell_type": "code",
   "execution_count": 10,
   "id": "be79ae12",
   "metadata": {},
   "outputs": [
    {
     "data": {
      "image/png": "[encoded data removed]",
      "text/plain": [
       "<Figure size 576x360 with 1 Axes>"
      ]
     },
     "metadata": {
      "needs_background": "light"
     },
     "output_type": "display_data"
    }
   ],
   "source": [
    "fig = plt.figure(figsize=(8,5))\n",
    "sns.lineplot(data=df_ari, x=\"Month\", y=\"ari_score\")\n",
    "plt.axhline(y=df_ari.iloc[2][1], linestyle=\"--\", \n",
    "            color=\"green\",\n",
    "            xmax=0.5,\n",
    "            linewidth=1)\n",
    "plt.axvline(x=df_ari.iloc[2][0], linestyle=\"--\", \n",
    "            color=\"green\",\n",
    "            ymax=4-(df_ari.iloc[2][1]),\n",
    "            linewidth=1)\n",
    "plt.xlabel(\"Période (mois)\")\n",
    "plt.ylabel(\"Score ARI\")\n",
    "plt.title(\"Stabilité temporelle de la segmentation par K-Means\",\n",
    "          fontsize=18,\n",
    "          color=\"r\")\n",
    "plt.show()"
   ]
  },
  {
   "cell_type": "markdown",
   "id": "1c0b2ddd",
   "metadata": {},
   "source": [
    "## Conclusion \n",
    "- Le  plot des scores ARI obtenus sur les itérations par période de chaque moi, on remarque une forte inflexion après 3 mois sur les clients initiaux.\n",
    "- Les client changeraient des clusters tous les 3 mois."
   ]
  },
  {
   "cell_type": "code",
   "execution_count": null,
   "id": "548cde09",
   "metadata": {},
   "outputs": [],
   "source": []
  }
 ],
 "metadata": {
  "kernelspec": {
   "display_name": "Python 3 (ipykernel)",
   "language": "python",
   "name": "python3"
  },
  "language_info": {
   "codemirror_mode": {
    "name": "ipython",
    "version": 3
   },
   "file_extension": ".py",
   "mimetype": "text/x-python",
   "name": "python",
   "nbconvert_exporter": "python",
   "pygments_lexer": "ipython3",
   "version": "3.8.8"
  }
 },
 "nbformat": 4,
 "nbformat_minor": 5
}
