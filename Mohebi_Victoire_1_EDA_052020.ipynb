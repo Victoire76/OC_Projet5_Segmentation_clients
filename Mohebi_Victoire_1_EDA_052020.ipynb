{
 "cells": [
  {
   "cell_type": "markdown",
   "id": "28cad752",
   "metadata": {},
   "source": [
    "# Projet 05 : Segmentez des clients d'un site e-commerce"
   ]
  },
  {
   "cell_type": "markdown",
   "id": "a6b7897a",
   "metadata": {},
   "source": [
    "## Sommaire \n",
    "\n",
    "### Rappel de problématique\n",
    "- Olist est un site de e-commerce au Brésil qui souhaite obtenir une segmentation de ses clients utilisable au quotidien par leur équipe marketing dans leurs campagnes de communication.\n",
    "### Objectif\n",
    "- L'objectif est de comprendre les différents types d'utilisateurs grâce à leur comportement et à leurs données personnelles anonymisées.\n",
    "### Mission\n",
    "- Fournir  description actionable de la segmentation et de sa logique sous-jacente pour une utilisation optimale. \n",
    "- Proposer un contrat de maintenance basée sur une analyse de la stabilité des segments au cours du temps. \n",
    "\n",
    "### Connaissance et Nettoyage du jeu de données \n",
    " - Dimension de jeu de données\n",
    " - Les variables de jeux de données\n",
    " - Données manquantes \n",
    " - Nettoyage du typage des données \n",
    "\n",
    "### Analyse exploiratoire de chaque frame\n",
    "\n",
    "### Regroupement des dataframe\n",
    "\n",
    "### Analyse exploiratoire de dataframe de modélisation\n",
    "\n",
    "### Conclusion"
   ]
  },
  {
   "cell_type": "code",
   "execution_count": 1,
   "id": "7d4b3eb1",
   "metadata": {},
   "outputs": [],
   "source": [
    "#Importer les librairies\n",
    "\n",
    "import pandas as pd \n",
    "import numpy as np\n",
    "\n",
    "import seaborn as sns\n",
    "import matplotlib.pyplot as plt\n",
    "from matplotlib.colors import ListedColormap\n",
    "\n",
    "import glob\n",
    "\n",
    "from time import time\n",
    "from statsmodels.tsa.seasonal import seasonal_decompose\n",
    "from mpl_toolkits.basemap import Basemap\n",
    "\n",
    "from datetime import datetime as dt\n",
    "import datetime\n",
    "\n",
    "\n",
    "from scipy import stats\n",
    "import warnings\n",
    "warnings.filterwarnings('ignore')\n",
    "\n",
    "import squarify\n",
    "\n",
    "from sklearn.preprocessing import MinMaxScaler\n",
    " \n",
    "\n",
    "from scipy.spatial.distance import cdist  \n",
    "\n",
    "import plotly.graph_objects as go"
   ]
  },
  {
   "cell_type": "code",
   "execution_count": 2,
   "id": "ee1dab82",
   "metadata": {},
   "outputs": [],
   "source": [
    "# Set colors pour afficher\n",
    "class color:\n",
    "    PURPLE = '\\033[95m'\n",
    "    CYAN = '\\033[96m'\n",
    "    DARKCYAN = '\\033[36m'\n",
    "    BLUE = '\\033[94m'\n",
    "    GREEN = '\\033[92m'\n",
    "    YELLOW = '\\033[93m'\n",
    "    RED = '\\033[91m'\n",
    "    BOLD = '\\033[1m'\n",
    "    UNDERLINE = '\\033[4m'\n",
    "    END = '\\033[0m'"
   ]
  },
  {
   "cell_type": "markdown",
   "id": "22fe1434",
   "metadata": {},
   "source": [
    "# Connaissance de jeu de données "
   ]
  },
  {
   "cell_type": "code",
   "execution_count": 3,
   "id": "2c786c06",
   "metadata": {},
   "outputs": [],
   "source": [
    "# Importer les datas \n",
    "\n",
    "customer = pd.read_csv(r\"C:\\Users\\faeze\\OneDrive\\Documents\\OC data science\\PROJECT\\Projet5\\archive\\olist_customers_dataset.csv\")\n",
    "geoloc = pd.read_csv(r\"C:\\Users\\faeze\\OneDrive\\Documents\\OC data science\\PROJECT\\Projet5\\archive\\olist_geolocation_dataset.csv\")\n",
    "item = pd.read_csv(r\"C:\\Users\\faeze\\OneDrive\\Documents\\OC data science\\PROJECT\\Projet5\\archive\\olist_order_items_dataset.csv\")\n",
    "payment= pd.read_csv(r\"C:\\Users\\faeze\\OneDrive\\Documents\\OC data science\\PROJECT\\Projet5\\archive\\olist_order_payments_dataset.csv\")\n",
    "review = pd.read_csv(r\"C:\\Users\\faeze\\OneDrive\\Documents\\OC data science\\PROJECT\\Projet5\\archive\\olist_order_reviews_dataset.csv\")\n",
    "order= pd.read_csv(r\"C:\\Users\\faeze\\OneDrive\\Documents\\OC data science\\PROJECT\\Projet5\\archive\\olist_orders_dataset.csv\")\n",
    "product = pd.read_csv(r\"C:\\Users\\faeze\\OneDrive\\Documents\\OC data science\\PROJECT\\Projet5\\archive\\olist_products_dataset.csv\")\n",
    "sellers = pd.read_csv(r\"C:\\Users\\faeze\\OneDrive\\Documents\\OC data science\\PROJECT\\Projet5\\archive\\olist_sellers_dataset.csv\")\n",
    "category= pd.read_csv(r\"C:\\Users\\faeze\\OneDrive\\Documents\\OC data science\\PROJECT\\Projet5\\archive\\product_category_name_translation.csv\")"
   ]
  },
  {
   "cell_type": "code",
   "execution_count": 4,
   "id": "5bbf77f8",
   "metadata": {},
   "outputs": [
    {
     "name": "stdout",
     "output_type": "stream",
     "text": [
      "\n",
      "\n",
      "\n",
      "\u001b[1m\u001b[91mDataframe Title: Customer\u001b[0m\n"
     ]
    },
    {
     "data": {
      "text/html": [
       "<div>\n",
       "<style scoped>\n",
       "    .dataframe tbody tr th:only-of-type {\n",
       "        vertical-align: middle;\n",
       "    }\n",
       "\n",
       "    .dataframe tbody tr th {\n",
       "        vertical-align: top;\n",
       "    }\n",
       "\n",
       "    .dataframe thead th {\n",
       "        text-align: right;\n",
       "    }\n",
       "</style>\n",
       "<table border=\"1\" class=\"dataframe\">\n",
       "  <thead>\n",
       "    <tr style=\"text-align: right;\">\n",
       "      <th></th>\n",
       "      <th>customer_id</th>\n",
       "      <th>customer_unique_id</th>\n",
       "      <th>customer_zip_code_prefix</th>\n",
       "      <th>customer_city</th>\n",
       "      <th>customer_state</th>\n",
       "    </tr>\n",
       "  </thead>\n",
       "  <tbody>\n",
       "    <tr>\n",
       "      <th>0</th>\n",
       "      <td>06b8999e2fba1a1fbc88172c00ba8bc7</td>\n",
       "      <td>861eff4711a542e4b93843c6dd7febb0</td>\n",
       "      <td>14409</td>\n",
       "      <td>franca</td>\n",
       "      <td>SP</td>\n",
       "    </tr>\n",
       "    <tr>\n",
       "      <th>1</th>\n",
       "      <td>18955e83d337fd6b2def6b18a428ac77</td>\n",
       "      <td>290c77bc529b7ac935b93aa66c333dc3</td>\n",
       "      <td>9790</td>\n",
       "      <td>sao bernardo do campo</td>\n",
       "      <td>SP</td>\n",
       "    </tr>\n",
       "    <tr>\n",
       "      <th>2</th>\n",
       "      <td>4e7b3e00288586ebd08712fdd0374a03</td>\n",
       "      <td>060e732b5b29e8181a18229c7b0b2b5e</td>\n",
       "      <td>1151</td>\n",
       "      <td>sao paulo</td>\n",
       "      <td>SP</td>\n",
       "    </tr>\n",
       "  </tbody>\n",
       "</table>\n",
       "</div>"
      ],
      "text/plain": [
       "                        customer_id                customer_unique_id  \\\n",
       "0  06b8999e2fba1a1fbc88172c00ba8bc7  861eff4711a542e4b93843c6dd7febb0   \n",
       "1  18955e83d337fd6b2def6b18a428ac77  290c77bc529b7ac935b93aa66c333dc3   \n",
       "2  4e7b3e00288586ebd08712fdd0374a03  060e732b5b29e8181a18229c7b0b2b5e   \n",
       "\n",
       "   customer_zip_code_prefix          customer_city customer_state  \n",
       "0                     14409                 franca             SP  \n",
       "1                      9790  sao bernardo do campo             SP  \n",
       "2                      1151              sao paulo             SP  "
      ]
     },
     "metadata": {},
     "output_type": "display_data"
    },
    {
     "name": "stdout",
     "output_type": "stream",
     "text": [
      "\n",
      "\n",
      "\n",
      "\u001b[1m\u001b[91mDataframe Title: Sellers\u001b[0m\n"
     ]
    },
    {
     "data": {
      "text/html": [
       "<div>\n",
       "<style scoped>\n",
       "    .dataframe tbody tr th:only-of-type {\n",
       "        vertical-align: middle;\n",
       "    }\n",
       "\n",
       "    .dataframe tbody tr th {\n",
       "        vertical-align: top;\n",
       "    }\n",
       "\n",
       "    .dataframe thead th {\n",
       "        text-align: right;\n",
       "    }\n",
       "</style>\n",
       "<table border=\"1\" class=\"dataframe\">\n",
       "  <thead>\n",
       "    <tr style=\"text-align: right;\">\n",
       "      <th></th>\n",
       "      <th>seller_id</th>\n",
       "      <th>seller_zip_code_prefix</th>\n",
       "      <th>seller_city</th>\n",
       "      <th>seller_state</th>\n",
       "    </tr>\n",
       "  </thead>\n",
       "  <tbody>\n",
       "    <tr>\n",
       "      <th>0</th>\n",
       "      <td>3442f8959a84dea7ee197c632cb2df15</td>\n",
       "      <td>13023</td>\n",
       "      <td>campinas</td>\n",
       "      <td>SP</td>\n",
       "    </tr>\n",
       "    <tr>\n",
       "      <th>1</th>\n",
       "      <td>d1b65fc7debc3361ea86b5f14c68d2e2</td>\n",
       "      <td>13844</td>\n",
       "      <td>mogi guacu</td>\n",
       "      <td>SP</td>\n",
       "    </tr>\n",
       "    <tr>\n",
       "      <th>2</th>\n",
       "      <td>ce3ad9de960102d0677a81f5d0bb7b2d</td>\n",
       "      <td>20031</td>\n",
       "      <td>rio de janeiro</td>\n",
       "      <td>RJ</td>\n",
       "    </tr>\n",
       "  </tbody>\n",
       "</table>\n",
       "</div>"
      ],
      "text/plain": [
       "                          seller_id  seller_zip_code_prefix     seller_city  \\\n",
       "0  3442f8959a84dea7ee197c632cb2df15                   13023        campinas   \n",
       "1  d1b65fc7debc3361ea86b5f14c68d2e2                   13844      mogi guacu   \n",
       "2  ce3ad9de960102d0677a81f5d0bb7b2d                   20031  rio de janeiro   \n",
       "\n",
       "  seller_state  \n",
       "0           SP  \n",
       "1           SP  \n",
       "2           RJ  "
      ]
     },
     "metadata": {},
     "output_type": "display_data"
    },
    {
     "name": "stdout",
     "output_type": "stream",
     "text": [
      "\n",
      "\n",
      "\n",
      "\u001b[1m\u001b[91mDataframe Title: Reviews\u001b[0m\n"
     ]
    },
    {
     "data": {
      "text/html": [
       "<div>\n",
       "<style scoped>\n",
       "    .dataframe tbody tr th:only-of-type {\n",
       "        vertical-align: middle;\n",
       "    }\n",
       "\n",
       "    .dataframe tbody tr th {\n",
       "        vertical-align: top;\n",
       "    }\n",
       "\n",
       "    .dataframe thead th {\n",
       "        text-align: right;\n",
       "    }\n",
       "</style>\n",
       "<table border=\"1\" class=\"dataframe\">\n",
       "  <thead>\n",
       "    <tr style=\"text-align: right;\">\n",
       "      <th></th>\n",
       "      <th>review_id</th>\n",
       "      <th>order_id</th>\n",
       "      <th>review_score</th>\n",
       "      <th>review_comment_title</th>\n",
       "      <th>review_comment_message</th>\n",
       "      <th>review_creation_date</th>\n",
       "      <th>review_answer_timestamp</th>\n",
       "    </tr>\n",
       "  </thead>\n",
       "  <tbody>\n",
       "    <tr>\n",
       "      <th>0</th>\n",
       "      <td>7bc2406110b926393aa56f80a40eba40</td>\n",
       "      <td>73fc7af87114b39712e6da79b0a377eb</td>\n",
       "      <td>4</td>\n",
       "      <td>NaN</td>\n",
       "      <td>NaN</td>\n",
       "      <td>2018-01-18 00:00:00</td>\n",
       "      <td>2018-01-18 21:46:59</td>\n",
       "    </tr>\n",
       "    <tr>\n",
       "      <th>1</th>\n",
       "      <td>80e641a11e56f04c1ad469d5645fdfde</td>\n",
       "      <td>a548910a1c6147796b98fdf73dbeba33</td>\n",
       "      <td>5</td>\n",
       "      <td>NaN</td>\n",
       "      <td>NaN</td>\n",
       "      <td>2018-03-10 00:00:00</td>\n",
       "      <td>2018-03-11 03:05:13</td>\n",
       "    </tr>\n",
       "    <tr>\n",
       "      <th>2</th>\n",
       "      <td>228ce5500dc1d8e020d8d1322874b6f0</td>\n",
       "      <td>f9e4b658b201a9f2ecdecbb34bed034b</td>\n",
       "      <td>5</td>\n",
       "      <td>NaN</td>\n",
       "      <td>NaN</td>\n",
       "      <td>2018-02-17 00:00:00</td>\n",
       "      <td>2018-02-18 14:36:24</td>\n",
       "    </tr>\n",
       "  </tbody>\n",
       "</table>\n",
       "</div>"
      ],
      "text/plain": [
       "                          review_id                          order_id  \\\n",
       "0  7bc2406110b926393aa56f80a40eba40  73fc7af87114b39712e6da79b0a377eb   \n",
       "1  80e641a11e56f04c1ad469d5645fdfde  a548910a1c6147796b98fdf73dbeba33   \n",
       "2  228ce5500dc1d8e020d8d1322874b6f0  f9e4b658b201a9f2ecdecbb34bed034b   \n",
       "\n",
       "   review_score review_comment_title review_comment_message  \\\n",
       "0             4                  NaN                    NaN   \n",
       "1             5                  NaN                    NaN   \n",
       "2             5                  NaN                    NaN   \n",
       "\n",
       "  review_creation_date review_answer_timestamp  \n",
       "0  2018-01-18 00:00:00     2018-01-18 21:46:59  \n",
       "1  2018-03-10 00:00:00     2018-03-11 03:05:13  \n",
       "2  2018-02-17 00:00:00     2018-02-18 14:36:24  "
      ]
     },
     "metadata": {},
     "output_type": "display_data"
    },
    {
     "name": "stdout",
     "output_type": "stream",
     "text": [
      "\n",
      "\n",
      "\n",
      "\u001b[1m\u001b[91mDataframe Title: Items\u001b[0m\n"
     ]
    },
    {
     "data": {
      "text/html": [
       "<div>\n",
       "<style scoped>\n",
       "    .dataframe tbody tr th:only-of-type {\n",
       "        vertical-align: middle;\n",
       "    }\n",
       "\n",
       "    .dataframe tbody tr th {\n",
       "        vertical-align: top;\n",
       "    }\n",
       "\n",
       "    .dataframe thead th {\n",
       "        text-align: right;\n",
       "    }\n",
       "</style>\n",
       "<table border=\"1\" class=\"dataframe\">\n",
       "  <thead>\n",
       "    <tr style=\"text-align: right;\">\n",
       "      <th></th>\n",
       "      <th>order_id</th>\n",
       "      <th>order_item_id</th>\n",
       "      <th>product_id</th>\n",
       "      <th>seller_id</th>\n",
       "      <th>shipping_limit_date</th>\n",
       "      <th>price</th>\n",
       "      <th>freight_value</th>\n",
       "    </tr>\n",
       "  </thead>\n",
       "  <tbody>\n",
       "    <tr>\n",
       "      <th>0</th>\n",
       "      <td>00010242fe8c5a6d1ba2dd792cb16214</td>\n",
       "      <td>1</td>\n",
       "      <td>4244733e06e7ecb4970a6e2683c13e61</td>\n",
       "      <td>48436dade18ac8b2bce089ec2a041202</td>\n",
       "      <td>2017-09-19 09:45:35</td>\n",
       "      <td>58.9</td>\n",
       "      <td>13.29</td>\n",
       "    </tr>\n",
       "    <tr>\n",
       "      <th>1</th>\n",
       "      <td>00018f77f2f0320c557190d7a144bdd3</td>\n",
       "      <td>1</td>\n",
       "      <td>e5f2d52b802189ee658865ca93d83a8f</td>\n",
       "      <td>dd7ddc04e1b6c2c614352b383efe2d36</td>\n",
       "      <td>2017-05-03 11:05:13</td>\n",
       "      <td>239.9</td>\n",
       "      <td>19.93</td>\n",
       "    </tr>\n",
       "    <tr>\n",
       "      <th>2</th>\n",
       "      <td>000229ec398224ef6ca0657da4fc703e</td>\n",
       "      <td>1</td>\n",
       "      <td>c777355d18b72b67abbeef9df44fd0fd</td>\n",
       "      <td>5b51032eddd242adc84c38acab88f23d</td>\n",
       "      <td>2018-01-18 14:48:30</td>\n",
       "      <td>199.0</td>\n",
       "      <td>17.87</td>\n",
       "    </tr>\n",
       "  </tbody>\n",
       "</table>\n",
       "</div>"
      ],
      "text/plain": [
       "                           order_id  order_item_id  \\\n",
       "0  00010242fe8c5a6d1ba2dd792cb16214              1   \n",
       "1  00018f77f2f0320c557190d7a144bdd3              1   \n",
       "2  000229ec398224ef6ca0657da4fc703e              1   \n",
       "\n",
       "                         product_id                         seller_id  \\\n",
       "0  4244733e06e7ecb4970a6e2683c13e61  48436dade18ac8b2bce089ec2a041202   \n",
       "1  e5f2d52b802189ee658865ca93d83a8f  dd7ddc04e1b6c2c614352b383efe2d36   \n",
       "2  c777355d18b72b67abbeef9df44fd0fd  5b51032eddd242adc84c38acab88f23d   \n",
       "\n",
       "   shipping_limit_date  price  freight_value  \n",
       "0  2017-09-19 09:45:35   58.9          13.29  \n",
       "1  2017-05-03 11:05:13  239.9          19.93  \n",
       "2  2018-01-18 14:48:30  199.0          17.87  "
      ]
     },
     "metadata": {},
     "output_type": "display_data"
    },
    {
     "name": "stdout",
     "output_type": "stream",
     "text": [
      "\n",
      "\n",
      "\n",
      "\u001b[1m\u001b[91mDataframe Title: Product\u001b[0m\n"
     ]
    },
    {
     "data": {
      "text/html": [
       "<div>\n",
       "<style scoped>\n",
       "    .dataframe tbody tr th:only-of-type {\n",
       "        vertical-align: middle;\n",
       "    }\n",
       "\n",
       "    .dataframe tbody tr th {\n",
       "        vertical-align: top;\n",
       "    }\n",
       "\n",
       "    .dataframe thead th {\n",
       "        text-align: right;\n",
       "    }\n",
       "</style>\n",
       "<table border=\"1\" class=\"dataframe\">\n",
       "  <thead>\n",
       "    <tr style=\"text-align: right;\">\n",
       "      <th></th>\n",
       "      <th>product_id</th>\n",
       "      <th>product_category_name</th>\n",
       "      <th>product_name_lenght</th>\n",
       "      <th>product_description_lenght</th>\n",
       "      <th>product_photos_qty</th>\n",
       "      <th>product_weight_g</th>\n",
       "      <th>product_length_cm</th>\n",
       "      <th>product_height_cm</th>\n",
       "      <th>product_width_cm</th>\n",
       "    </tr>\n",
       "  </thead>\n",
       "  <tbody>\n",
       "    <tr>\n",
       "      <th>0</th>\n",
       "      <td>1e9e8ef04dbcff4541ed26657ea517e5</td>\n",
       "      <td>perfumaria</td>\n",
       "      <td>40.0</td>\n",
       "      <td>287.0</td>\n",
       "      <td>1.0</td>\n",
       "      <td>225.0</td>\n",
       "      <td>16.0</td>\n",
       "      <td>10.0</td>\n",
       "      <td>14.0</td>\n",
       "    </tr>\n",
       "    <tr>\n",
       "      <th>1</th>\n",
       "      <td>3aa071139cb16b67ca9e5dea641aaa2f</td>\n",
       "      <td>artes</td>\n",
       "      <td>44.0</td>\n",
       "      <td>276.0</td>\n",
       "      <td>1.0</td>\n",
       "      <td>1000.0</td>\n",
       "      <td>30.0</td>\n",
       "      <td>18.0</td>\n",
       "      <td>20.0</td>\n",
       "    </tr>\n",
       "    <tr>\n",
       "      <th>2</th>\n",
       "      <td>96bd76ec8810374ed1b65e291975717f</td>\n",
       "      <td>esporte_lazer</td>\n",
       "      <td>46.0</td>\n",
       "      <td>250.0</td>\n",
       "      <td>1.0</td>\n",
       "      <td>154.0</td>\n",
       "      <td>18.0</td>\n",
       "      <td>9.0</td>\n",
       "      <td>15.0</td>\n",
       "    </tr>\n",
       "  </tbody>\n",
       "</table>\n",
       "</div>"
      ],
      "text/plain": [
       "                         product_id product_category_name  \\\n",
       "0  1e9e8ef04dbcff4541ed26657ea517e5            perfumaria   \n",
       "1  3aa071139cb16b67ca9e5dea641aaa2f                 artes   \n",
       "2  96bd76ec8810374ed1b65e291975717f         esporte_lazer   \n",
       "\n",
       "   product_name_lenght  product_description_lenght  product_photos_qty  \\\n",
       "0                 40.0                       287.0                 1.0   \n",
       "1                 44.0                       276.0                 1.0   \n",
       "2                 46.0                       250.0                 1.0   \n",
       "\n",
       "   product_weight_g  product_length_cm  product_height_cm  product_width_cm  \n",
       "0             225.0               16.0               10.0              14.0  \n",
       "1            1000.0               30.0               18.0              20.0  \n",
       "2             154.0               18.0                9.0              15.0  "
      ]
     },
     "metadata": {},
     "output_type": "display_data"
    },
    {
     "name": "stdout",
     "output_type": "stream",
     "text": [
      "\n",
      "\n",
      "\n",
      "\u001b[1m\u001b[91mDataframe Title: Geolocation\u001b[0m\n"
     ]
    },
    {
     "data": {
      "text/html": [
       "<div>\n",
       "<style scoped>\n",
       "    .dataframe tbody tr th:only-of-type {\n",
       "        vertical-align: middle;\n",
       "    }\n",
       "\n",
       "    .dataframe tbody tr th {\n",
       "        vertical-align: top;\n",
       "    }\n",
       "\n",
       "    .dataframe thead th {\n",
       "        text-align: right;\n",
       "    }\n",
       "</style>\n",
       "<table border=\"1\" class=\"dataframe\">\n",
       "  <thead>\n",
       "    <tr style=\"text-align: right;\">\n",
       "      <th></th>\n",
       "      <th>geolocation_zip_code_prefix</th>\n",
       "      <th>geolocation_lat</th>\n",
       "      <th>geolocation_lng</th>\n",
       "      <th>geolocation_city</th>\n",
       "      <th>geolocation_state</th>\n",
       "    </tr>\n",
       "  </thead>\n",
       "  <tbody>\n",
       "    <tr>\n",
       "      <th>0</th>\n",
       "      <td>1037</td>\n",
       "      <td>-23.545621</td>\n",
       "      <td>-46.639292</td>\n",
       "      <td>sao paulo</td>\n",
       "      <td>SP</td>\n",
       "    </tr>\n",
       "    <tr>\n",
       "      <th>1</th>\n",
       "      <td>1046</td>\n",
       "      <td>-23.546081</td>\n",
       "      <td>-46.644820</td>\n",
       "      <td>sao paulo</td>\n",
       "      <td>SP</td>\n",
       "    </tr>\n",
       "    <tr>\n",
       "      <th>2</th>\n",
       "      <td>1046</td>\n",
       "      <td>-23.546129</td>\n",
       "      <td>-46.642951</td>\n",
       "      <td>sao paulo</td>\n",
       "      <td>SP</td>\n",
       "    </tr>\n",
       "  </tbody>\n",
       "</table>\n",
       "</div>"
      ],
      "text/plain": [
       "   geolocation_zip_code_prefix  geolocation_lat  geolocation_lng  \\\n",
       "0                         1037       -23.545621       -46.639292   \n",
       "1                         1046       -23.546081       -46.644820   \n",
       "2                         1046       -23.546129       -46.642951   \n",
       "\n",
       "  geolocation_city geolocation_state  \n",
       "0        sao paulo                SP  \n",
       "1        sao paulo                SP  \n",
       "2        sao paulo                SP  "
      ]
     },
     "metadata": {},
     "output_type": "display_data"
    },
    {
     "name": "stdout",
     "output_type": "stream",
     "text": [
      "\n",
      "\n",
      "\n",
      "\u001b[1m\u001b[91mDataframe Title: Category\u001b[0m\n"
     ]
    },
    {
     "data": {
      "text/html": [
       "<div>\n",
       "<style scoped>\n",
       "    .dataframe tbody tr th:only-of-type {\n",
       "        vertical-align: middle;\n",
       "    }\n",
       "\n",
       "    .dataframe tbody tr th {\n",
       "        vertical-align: top;\n",
       "    }\n",
       "\n",
       "    .dataframe thead th {\n",
       "        text-align: right;\n",
       "    }\n",
       "</style>\n",
       "<table border=\"1\" class=\"dataframe\">\n",
       "  <thead>\n",
       "    <tr style=\"text-align: right;\">\n",
       "      <th></th>\n",
       "      <th>product_category_name</th>\n",
       "      <th>product_category_name_english</th>\n",
       "    </tr>\n",
       "  </thead>\n",
       "  <tbody>\n",
       "    <tr>\n",
       "      <th>0</th>\n",
       "      <td>beleza_saude</td>\n",
       "      <td>health_beauty</td>\n",
       "    </tr>\n",
       "    <tr>\n",
       "      <th>1</th>\n",
       "      <td>informatica_acessorios</td>\n",
       "      <td>computers_accessories</td>\n",
       "    </tr>\n",
       "    <tr>\n",
       "      <th>2</th>\n",
       "      <td>automotivo</td>\n",
       "      <td>auto</td>\n",
       "    </tr>\n",
       "  </tbody>\n",
       "</table>\n",
       "</div>"
      ],
      "text/plain": [
       "    product_category_name product_category_name_english\n",
       "0            beleza_saude                 health_beauty\n",
       "1  informatica_acessorios         computers_accessories\n",
       "2              automotivo                          auto"
      ]
     },
     "metadata": {},
     "output_type": "display_data"
    },
    {
     "name": "stdout",
     "output_type": "stream",
     "text": [
      "\n",
      "\n",
      "\n",
      "\u001b[1m\u001b[91mDataframe Title: Order\u001b[0m\n"
     ]
    },
    {
     "data": {
      "text/html": [
       "<div>\n",
       "<style scoped>\n",
       "    .dataframe tbody tr th:only-of-type {\n",
       "        vertical-align: middle;\n",
       "    }\n",
       "\n",
       "    .dataframe tbody tr th {\n",
       "        vertical-align: top;\n",
       "    }\n",
       "\n",
       "    .dataframe thead th {\n",
       "        text-align: right;\n",
       "    }\n",
       "</style>\n",
       "<table border=\"1\" class=\"dataframe\">\n",
       "  <thead>\n",
       "    <tr style=\"text-align: right;\">\n",
       "      <th></th>\n",
       "      <th>order_id</th>\n",
       "      <th>customer_id</th>\n",
       "      <th>order_status</th>\n",
       "      <th>order_purchase_timestamp</th>\n",
       "      <th>order_approved_at</th>\n",
       "      <th>order_delivered_carrier_date</th>\n",
       "      <th>order_delivered_customer_date</th>\n",
       "      <th>order_estimated_delivery_date</th>\n",
       "    </tr>\n",
       "  </thead>\n",
       "  <tbody>\n",
       "    <tr>\n",
       "      <th>0</th>\n",
       "      <td>e481f51cbdc54678b7cc49136f2d6af7</td>\n",
       "      <td>9ef432eb6251297304e76186b10a928d</td>\n",
       "      <td>delivered</td>\n",
       "      <td>2017-10-02 10:56:33</td>\n",
       "      <td>2017-10-02 11:07:15</td>\n",
       "      <td>2017-10-04 19:55:00</td>\n",
       "      <td>2017-10-10 21:25:13</td>\n",
       "      <td>2017-10-18 00:00:00</td>\n",
       "    </tr>\n",
       "    <tr>\n",
       "      <th>1</th>\n",
       "      <td>53cdb2fc8bc7dce0b6741e2150273451</td>\n",
       "      <td>b0830fb4747a6c6d20dea0b8c802d7ef</td>\n",
       "      <td>delivered</td>\n",
       "      <td>2018-07-24 20:41:37</td>\n",
       "      <td>2018-07-26 03:24:27</td>\n",
       "      <td>2018-07-26 14:31:00</td>\n",
       "      <td>2018-08-07 15:27:45</td>\n",
       "      <td>2018-08-13 00:00:00</td>\n",
       "    </tr>\n",
       "    <tr>\n",
       "      <th>2</th>\n",
       "      <td>47770eb9100c2d0c44946d9cf07ec65d</td>\n",
       "      <td>41ce2a54c0b03bf3443c3d931a367089</td>\n",
       "      <td>delivered</td>\n",
       "      <td>2018-08-08 08:38:49</td>\n",
       "      <td>2018-08-08 08:55:23</td>\n",
       "      <td>2018-08-08 13:50:00</td>\n",
       "      <td>2018-08-17 18:06:29</td>\n",
       "      <td>2018-09-04 00:00:00</td>\n",
       "    </tr>\n",
       "  </tbody>\n",
       "</table>\n",
       "</div>"
      ],
      "text/plain": [
       "                           order_id                       customer_id  \\\n",
       "0  e481f51cbdc54678b7cc49136f2d6af7  9ef432eb6251297304e76186b10a928d   \n",
       "1  53cdb2fc8bc7dce0b6741e2150273451  b0830fb4747a6c6d20dea0b8c802d7ef   \n",
       "2  47770eb9100c2d0c44946d9cf07ec65d  41ce2a54c0b03bf3443c3d931a367089   \n",
       "\n",
       "  order_status order_purchase_timestamp    order_approved_at  \\\n",
       "0    delivered      2017-10-02 10:56:33  2017-10-02 11:07:15   \n",
       "1    delivered      2018-07-24 20:41:37  2018-07-26 03:24:27   \n",
       "2    delivered      2018-08-08 08:38:49  2018-08-08 08:55:23   \n",
       "\n",
       "  order_delivered_carrier_date order_delivered_customer_date  \\\n",
       "0          2017-10-04 19:55:00           2017-10-10 21:25:13   \n",
       "1          2018-07-26 14:31:00           2018-08-07 15:27:45   \n",
       "2          2018-08-08 13:50:00           2018-08-17 18:06:29   \n",
       "\n",
       "  order_estimated_delivery_date  \n",
       "0           2017-10-18 00:00:00  \n",
       "1           2018-08-13 00:00:00  \n",
       "2           2018-09-04 00:00:00  "
      ]
     },
     "metadata": {},
     "output_type": "display_data"
    },
    {
     "name": "stdout",
     "output_type": "stream",
     "text": [
      "\n",
      "\n",
      "\n",
      "\u001b[1m\u001b[91mDataframe Title: Payments\u001b[0m\n"
     ]
    },
    {
     "data": {
      "text/html": [
       "<div>\n",
       "<style scoped>\n",
       "    .dataframe tbody tr th:only-of-type {\n",
       "        vertical-align: middle;\n",
       "    }\n",
       "\n",
       "    .dataframe tbody tr th {\n",
       "        vertical-align: top;\n",
       "    }\n",
       "\n",
       "    .dataframe thead th {\n",
       "        text-align: right;\n",
       "    }\n",
       "</style>\n",
       "<table border=\"1\" class=\"dataframe\">\n",
       "  <thead>\n",
       "    <tr style=\"text-align: right;\">\n",
       "      <th></th>\n",
       "      <th>order_id</th>\n",
       "      <th>payment_sequential</th>\n",
       "      <th>payment_type</th>\n",
       "      <th>payment_installments</th>\n",
       "      <th>payment_value</th>\n",
       "    </tr>\n",
       "  </thead>\n",
       "  <tbody>\n",
       "    <tr>\n",
       "      <th>0</th>\n",
       "      <td>b81ef226f3fe1789b1e8b2acac839d17</td>\n",
       "      <td>1</td>\n",
       "      <td>credit_card</td>\n",
       "      <td>8</td>\n",
       "      <td>99.33</td>\n",
       "    </tr>\n",
       "    <tr>\n",
       "      <th>1</th>\n",
       "      <td>a9810da82917af2d9aefd1278f1dcfa0</td>\n",
       "      <td>1</td>\n",
       "      <td>credit_card</td>\n",
       "      <td>1</td>\n",
       "      <td>24.39</td>\n",
       "    </tr>\n",
       "    <tr>\n",
       "      <th>2</th>\n",
       "      <td>25e8ea4e93396b6fa0d3dd708e76c1bd</td>\n",
       "      <td>1</td>\n",
       "      <td>credit_card</td>\n",
       "      <td>1</td>\n",
       "      <td>65.71</td>\n",
       "    </tr>\n",
       "  </tbody>\n",
       "</table>\n",
       "</div>"
      ],
      "text/plain": [
       "                           order_id  payment_sequential payment_type  \\\n",
       "0  b81ef226f3fe1789b1e8b2acac839d17                   1  credit_card   \n",
       "1  a9810da82917af2d9aefd1278f1dcfa0                   1  credit_card   \n",
       "2  25e8ea4e93396b6fa0d3dd708e76c1bd                   1  credit_card   \n",
       "\n",
       "   payment_installments  payment_value  \n",
       "0                     8          99.33  \n",
       "1                     1          24.39  \n",
       "2                     1          65.71  "
      ]
     },
     "metadata": {},
     "output_type": "display_data"
    }
   ],
   "source": [
    "#Afficher les data frames\n",
    "\n",
    "all_filles = [(customer, 'customer'),\n",
    "       (sellers, 'sellers'),\n",
    "       (review, 'reviews'), \n",
    "       (item, 'items'),\n",
    "       (product, 'product'),\n",
    "       (geoloc, 'geolocation'),\n",
    "       (category, 'category'),\n",
    "       (order, 'order'),\n",
    "       (payment, 'payments')\n",
    "      ]\n",
    "\n",
    "for df, name in all_filles : \n",
    "    print('\\n\\n')\n",
    "    print(color.BOLD + color.RED + 'Dataframe Title: ' + name.capitalize()  + color.END)\n",
    "    display(df.head(3))"
   ]
  },
  {
   "cell_type": "markdown",
   "id": "97c2d81d",
   "metadata": {},
   "source": [
    "### Dimension de jeu de données"
   ]
  },
  {
   "cell_type": "code",
   "execution_count": 5,
   "id": "ce4938cd",
   "metadata": {},
   "outputs": [
    {
     "name": "stdout",
     "output_type": "stream",
     "text": [
      "\u001b[1mDimension des dataframes\u001b[0m\n",
      "\n",
      "\n",
      "\u001b[1m\u001b[94mCustomer\u001b[0m\n",
      "(99441, 5)\n",
      "\n",
      "\n",
      "\u001b[1m\u001b[94mSellers\u001b[0m\n",
      "(3095, 4)\n",
      "\n",
      "\n",
      "\u001b[1m\u001b[94mReviews\u001b[0m\n",
      "(99224, 7)\n",
      "\n",
      "\n",
      "\u001b[1m\u001b[94mItems\u001b[0m\n",
      "(112650, 7)\n",
      "\n",
      "\n",
      "\u001b[1m\u001b[94mProduct\u001b[0m\n",
      "(32951, 9)\n",
      "\n",
      "\n",
      "\u001b[1m\u001b[94mGeolocation\u001b[0m\n",
      "(1000163, 5)\n",
      "\n",
      "\n",
      "\u001b[1m\u001b[94mCategory\u001b[0m\n",
      "(71, 2)\n",
      "\n",
      "\n",
      "\u001b[1m\u001b[94mOrder\u001b[0m\n",
      "(99441, 8)\n",
      "\n",
      "\n",
      "\u001b[1m\u001b[94mPayments\u001b[0m\n",
      "(103886, 5)\n"
     ]
    }
   ],
   "source": [
    "# Afficher la dimenion de chaque dataframe\n",
    "\n",
    "print(color.BOLD + \"Dimension des dataframes\" + color.END)\n",
    "for df, name in all_filles:\n",
    "    print('\\n')\n",
    "    print(color.BOLD + color.BLUE + name.capitalize()+ color.END)\n",
    "    print(df.shape)"
   ]
  },
  {
   "cell_type": "markdown",
   "id": "19930980",
   "metadata": {},
   "source": [
    "### Les variables de jeux de données"
   ]
  },
  {
   "cell_type": "code",
   "execution_count": 6,
   "id": "35368345",
   "metadata": {},
   "outputs": [
    {
     "name": "stdout",
     "output_type": "stream",
     "text": [
      "\n",
      "\n",
      "\n",
      "\u001b[1m\u001b[91mDataframe Title: Customer\u001b[0m\n"
     ]
    },
    {
     "data": {
      "text/plain": [
       "['customer_id',\n",
       " 'customer_unique_id',\n",
       " 'customer_zip_code_prefix',\n",
       " 'customer_city',\n",
       " 'customer_state']"
      ]
     },
     "metadata": {},
     "output_type": "display_data"
    },
    {
     "name": "stdout",
     "output_type": "stream",
     "text": [
      "\n",
      "\n",
      "\n",
      "\u001b[1m\u001b[91mDataframe Title: Sellers\u001b[0m\n"
     ]
    },
    {
     "data": {
      "text/plain": [
       "['seller_id', 'seller_zip_code_prefix', 'seller_city', 'seller_state']"
      ]
     },
     "metadata": {},
     "output_type": "display_data"
    },
    {
     "name": "stdout",
     "output_type": "stream",
     "text": [
      "\n",
      "\n",
      "\n",
      "\u001b[1m\u001b[91mDataframe Title: Reviews\u001b[0m\n"
     ]
    },
    {
     "data": {
      "text/plain": [
       "['review_id',\n",
       " 'order_id',\n",
       " 'review_score',\n",
       " 'review_comment_title',\n",
       " 'review_comment_message',\n",
       " 'review_creation_date',\n",
       " 'review_answer_timestamp']"
      ]
     },
     "metadata": {},
     "output_type": "display_data"
    },
    {
     "name": "stdout",
     "output_type": "stream",
     "text": [
      "\n",
      "\n",
      "\n",
      "\u001b[1m\u001b[91mDataframe Title: Items\u001b[0m\n"
     ]
    },
    {
     "data": {
      "text/plain": [
       "['order_id',\n",
       " 'order_item_id',\n",
       " 'product_id',\n",
       " 'seller_id',\n",
       " 'shipping_limit_date',\n",
       " 'price',\n",
       " 'freight_value']"
      ]
     },
     "metadata": {},
     "output_type": "display_data"
    },
    {
     "name": "stdout",
     "output_type": "stream",
     "text": [
      "\n",
      "\n",
      "\n",
      "\u001b[1m\u001b[91mDataframe Title: Product\u001b[0m\n"
     ]
    },
    {
     "data": {
      "text/plain": [
       "['product_id',\n",
       " 'product_category_name',\n",
       " 'product_name_lenght',\n",
       " 'product_description_lenght',\n",
       " 'product_photos_qty',\n",
       " 'product_weight_g',\n",
       " 'product_length_cm',\n",
       " 'product_height_cm',\n",
       " 'product_width_cm']"
      ]
     },
     "metadata": {},
     "output_type": "display_data"
    },
    {
     "name": "stdout",
     "output_type": "stream",
     "text": [
      "\n",
      "\n",
      "\n",
      "\u001b[1m\u001b[91mDataframe Title: Geolocation\u001b[0m\n"
     ]
    },
    {
     "data": {
      "text/plain": [
       "['geolocation_zip_code_prefix',\n",
       " 'geolocation_lat',\n",
       " 'geolocation_lng',\n",
       " 'geolocation_city',\n",
       " 'geolocation_state']"
      ]
     },
     "metadata": {},
     "output_type": "display_data"
    },
    {
     "name": "stdout",
     "output_type": "stream",
     "text": [
      "\n",
      "\n",
      "\n",
      "\u001b[1m\u001b[91mDataframe Title: Category\u001b[0m\n"
     ]
    },
    {
     "data": {
      "text/plain": [
       "['product_category_name', 'product_category_name_english']"
      ]
     },
     "metadata": {},
     "output_type": "display_data"
    },
    {
     "name": "stdout",
     "output_type": "stream",
     "text": [
      "\n",
      "\n",
      "\n",
      "\u001b[1m\u001b[91mDataframe Title: Order\u001b[0m\n"
     ]
    },
    {
     "data": {
      "text/plain": [
       "['order_id',\n",
       " 'customer_id',\n",
       " 'order_status',\n",
       " 'order_purchase_timestamp',\n",
       " 'order_approved_at',\n",
       " 'order_delivered_carrier_date',\n",
       " 'order_delivered_customer_date',\n",
       " 'order_estimated_delivery_date']"
      ]
     },
     "metadata": {},
     "output_type": "display_data"
    },
    {
     "name": "stdout",
     "output_type": "stream",
     "text": [
      "\n",
      "\n",
      "\n",
      "\u001b[1m\u001b[91mDataframe Title: Payments\u001b[0m\n"
     ]
    },
    {
     "data": {
      "text/plain": [
       "['order_id',\n",
       " 'payment_sequential',\n",
       " 'payment_type',\n",
       " 'payment_installments',\n",
       " 'payment_value']"
      ]
     },
     "metadata": {},
     "output_type": "display_data"
    }
   ],
   "source": [
    "# Afficher les colonnes de chaque dataframe\n",
    "for df, name in all_filles : \n",
    "    print('\\n\\n')\n",
    "    print(color.BOLD + color.RED + 'Dataframe Title: ' + name.capitalize()  + color.END)\n",
    "    display(df.columns.tolist())"
   ]
  },
  {
   "cell_type": "markdown",
   "id": "d954a4cd",
   "metadata": {},
   "source": [
    "### Données manquantes"
   ]
  },
  {
   "cell_type": "code",
   "execution_count": 7,
   "id": "59b4c1f9",
   "metadata": {
    "scrolled": true
   },
   "outputs": [
    {
     "name": "stdout",
     "output_type": "stream",
     "text": [
      "\n",
      "\n",
      "\u001b[1m\u001b[94mCustomer\u001b[0m\n",
      "0.0 NaN\n",
      "\n",
      "\n",
      "\u001b[1m\u001b[94mSellers\u001b[0m\n",
      "0.0 NaN\n",
      "\n",
      "\n",
      "\u001b[1m\u001b[94mReviews\u001b[0m\n",
      "147.0440619205031 NaN\n",
      "\n",
      "\n",
      "\u001b[1m\u001b[94mItems\u001b[0m\n",
      "0.0 NaN\n",
      "\n",
      "\n",
      "\u001b[1m\u001b[94mProduct\u001b[0m\n",
      "7.4292130739583015 NaN\n",
      "\n",
      "\n",
      "\u001b[1m\u001b[94mGeolocation\u001b[0m\n",
      "0.0 NaN\n",
      "\n",
      "\n",
      "\u001b[1m\u001b[94mCategory\u001b[0m\n",
      "0.0 NaN\n",
      "\n",
      "\n",
      "\u001b[1m\u001b[94mOrder\u001b[0m\n",
      "4.935589947808248 NaN\n",
      "\n",
      "\n",
      "\u001b[1m\u001b[94mPayments\u001b[0m\n",
      "0.0 NaN\n"
     ]
    }
   ],
   "source": [
    "# Afficher le pourcentage des valeurs manquantes de chaque dataframe\n",
    "for df, name in all_filles: \n",
    "    print('\\n')\n",
    "    print(color.BOLD +color.BLUE + name.capitalize() + color.END)\n",
    "    print((df.isna().sum().sum()/df.shape[0])*100, 'NaN')"
   ]
  },
  {
   "cell_type": "markdown",
   "id": "919992f3",
   "metadata": {},
   "source": [
    "### Aperçu sr les jeux de données ; typage, les valeurs uniques , .. "
   ]
  },
  {
   "cell_type": "code",
   "execution_count": 121,
   "id": "766cd2da",
   "metadata": {},
   "outputs": [],
   "source": [
    "liste_dfs = [customer, geoloc, item, payment, review, order, product, sellers, category]\n",
    "name_df = ['customer', 'geoloc', 'item', 'payment', \n",
    "           'review', 'order', 'product', 'sellers', 'category']\n",
    "for n in range(len(name_df)) : \n",
    "    name_df[n] = name_df[n].upper()\n",
    "\n",
    "i=0\n",
    "liste_indices = []\n",
    "liste_colonnes = []\n",
    "liste_types = []\n",
    "liste_uniques = []\n",
    "list_NaN = []\n",
    "\n",
    "for df in liste_dfs:\n",
    "    \n",
    "\n",
    "    for column in df.columns:\n",
    "        liste_indices.append(name_df[i]) \n",
    "        liste_colonnes.append(column)\n",
    "        liste_types.append(df[column].dtype)\n",
    "        liste_uniques.append(df[column].nunique())\n",
    "        list_NaN.append(df[column].isna().sum())\n",
    "    i+=1\n",
    "resume_data = pd.DataFrame([liste_indices,\n",
    "                            liste_colonnes, \n",
    "                            liste_types,\n",
    "                            liste_uniques,\n",
    "                            list_NaN]).T\n",
    "\n",
    "resume_data.columns=['Donnee','Nom colonne', 'Type', 'Valeurs uniques',  'Nombre de NaN']\n",
    "resume_data\n"
   ]
  },
  {
   "cell_type": "markdown",
   "id": "9aa9706e",
   "metadata": {},
   "source": [
    "### Bilan sur le résumé de jeux de données de site e-commerce brézilien 'Olisat'\n",
    "- On 9 dataframes de dimension différentes. \n",
    "- Les dataframe contiennet les varaibles différentes : Customer_id, product_id, order_id, la date de commande et de livraison , la localisation de clients et des vendeurs...\n",
    "- Afin de pouvoir ségmenter les client, on aura besoin de regrouper les dataframe et créer de nouveau variables comme la fréquence d'achat, panier_moyen , le moyenne note de chaqen clients .... "
   ]
  },
  {
   "cell_type": "markdown",
   "id": "d5e7b695",
   "metadata": {},
   "source": [
    "### Nettoyage du typage des données "
   ]
  },
  {
   "cell_type": "code",
   "execution_count": 9,
   "id": "3dcfc0a3",
   "metadata": {},
   "outputs": [
    {
     "data": {
      "text/html": [
       "<div>\n",
       "<style scoped>\n",
       "    .dataframe tbody tr th:only-of-type {\n",
       "        vertical-align: middle;\n",
       "    }\n",
       "\n",
       "    .dataframe tbody tr th {\n",
       "        vertical-align: top;\n",
       "    }\n",
       "\n",
       "    .dataframe thead th {\n",
       "        text-align: right;\n",
       "    }\n",
       "</style>\n",
       "<table border=\"1\" class=\"dataframe\">\n",
       "  <thead>\n",
       "    <tr style=\"text-align: right;\">\n",
       "      <th></th>\n",
       "      <th>Donnee</th>\n",
       "      <th>Nom colonne</th>\n",
       "      <th>Type</th>\n",
       "      <th>Valeurs uniques</th>\n",
       "      <th>Nombre de NaN</th>\n",
       "    </tr>\n",
       "  </thead>\n",
       "  <tbody>\n",
       "    <tr>\n",
       "      <th>14</th>\n",
       "      <td>ITEM</td>\n",
       "      <td>shipping_limit_date</td>\n",
       "      <td>object</td>\n",
       "      <td>93318</td>\n",
       "      <td>0</td>\n",
       "    </tr>\n",
       "    <tr>\n",
       "      <th>27</th>\n",
       "      <td>REVIEW</td>\n",
       "      <td>review_creation_date</td>\n",
       "      <td>object</td>\n",
       "      <td>636</td>\n",
       "      <td>0</td>\n",
       "    </tr>\n",
       "    <tr>\n",
       "      <th>28</th>\n",
       "      <td>REVIEW</td>\n",
       "      <td>review_answer_timestamp</td>\n",
       "      <td>object</td>\n",
       "      <td>98248</td>\n",
       "      <td>0</td>\n",
       "    </tr>\n",
       "    <tr>\n",
       "      <th>32</th>\n",
       "      <td>ORDER</td>\n",
       "      <td>order_purchase_timestamp</td>\n",
       "      <td>object</td>\n",
       "      <td>98875</td>\n",
       "      <td>0</td>\n",
       "    </tr>\n",
       "    <tr>\n",
       "      <th>34</th>\n",
       "      <td>ORDER</td>\n",
       "      <td>order_delivered_carrier_date</td>\n",
       "      <td>object</td>\n",
       "      <td>81018</td>\n",
       "      <td>1783</td>\n",
       "    </tr>\n",
       "    <tr>\n",
       "      <th>35</th>\n",
       "      <td>ORDER</td>\n",
       "      <td>order_delivered_customer_date</td>\n",
       "      <td>object</td>\n",
       "      <td>95664</td>\n",
       "      <td>2965</td>\n",
       "    </tr>\n",
       "    <tr>\n",
       "      <th>36</th>\n",
       "      <td>ORDER</td>\n",
       "      <td>order_estimated_delivery_date</td>\n",
       "      <td>object</td>\n",
       "      <td>459</td>\n",
       "      <td>0</td>\n",
       "    </tr>\n",
       "  </tbody>\n",
       "</table>\n",
       "</div>"
      ],
      "text/plain": [
       "    Donnee                    Nom colonne    Type Valeurs uniques  \\\n",
       "14    ITEM            shipping_limit_date  object           93318   \n",
       "27  REVIEW           review_creation_date  object             636   \n",
       "28  REVIEW        review_answer_timestamp  object           98248   \n",
       "32   ORDER       order_purchase_timestamp  object           98875   \n",
       "34   ORDER   order_delivered_carrier_date  object           81018   \n",
       "35   ORDER  order_delivered_customer_date  object           95664   \n",
       "36   ORDER  order_estimated_delivery_date  object             459   \n",
       "\n",
       "   Nombre de NaN  \n",
       "14             0  \n",
       "27             0  \n",
       "28             0  \n",
       "32             0  \n",
       "34          1783  \n",
       "35          2965  \n",
       "36             0  "
      ]
     },
     "execution_count": 9,
     "metadata": {},
     "output_type": "execute_result"
    }
   ],
   "source": [
    "#Afficher les varaibles de date_time de tous les dataframes \n",
    "\n",
    "date_type = resume_data.loc[(resume_data['Nom colonne'].str.contains('date') | resume_data['Nom colonne'].str.contains('time') )]\n",
    "\n",
    "date_type"
   ]
  },
  {
   "cell_type": "code",
   "execution_count": 10,
   "id": "6b41feaf",
   "metadata": {},
   "outputs": [],
   "source": [
    "# Traitment des typage des données \n",
    "\n",
    "item['shipping_limit_date'] = pd.to_datetime(item[\n",
    "        'shipping_limit_date'], errors='coerce')\n",
    "\n",
    "review['review_creation_date'] = pd.to_datetime(review['review_creation_date'])\n",
    "\n",
    "review['review_answer_timestamp'] = pd.to_datetime(review['review_answer_timestamp'])\n",
    "\n",
    "order['order_purchase_timestamp'] = pd.to_datetime(order['order_purchase_timestamp'])\n",
    "\n",
    "order['order_delivered_carrier_date'] = pd.to_datetime(order['order_delivered_carrier_date'])\n",
    "\n",
    "order['order_delivered_customer_date'] = pd.to_datetime(order['order_delivered_customer_date'])\n",
    " \n",
    "order['order_estimated_delivery_date'] =  pd.to_datetime(order['order_estimated_delivery_date'])\n",
    "\n",
    "order['order_approved_at'] = pd.to_datetime(order['order_approved_at'])"
   ]
  },
  {
   "cell_type": "code",
   "execution_count": 11,
   "id": "db44a2fb",
   "metadata": {},
   "outputs": [
    {
     "data": {
      "text/html": [
       "<div>\n",
       "<style scoped>\n",
       "    .dataframe tbody tr th:only-of-type {\n",
       "        vertical-align: middle;\n",
       "    }\n",
       "\n",
       "    .dataframe tbody tr th {\n",
       "        vertical-align: top;\n",
       "    }\n",
       "\n",
       "    .dataframe thead th {\n",
       "        text-align: right;\n",
       "    }\n",
       "</style>\n",
       "<table border=\"1\" class=\"dataframe\">\n",
       "  <thead>\n",
       "    <tr style=\"text-align: right;\">\n",
       "      <th></th>\n",
       "      <th>Donnee</th>\n",
       "      <th>Nom colonne</th>\n",
       "      <th>Type</th>\n",
       "      <th>Valeurs uniques</th>\n",
       "      <th>Nombre de NaN</th>\n",
       "    </tr>\n",
       "  </thead>\n",
       "  <tbody>\n",
       "    <tr>\n",
       "      <th>25</th>\n",
       "      <td>REVIEW</td>\n",
       "      <td>review_comment_title</td>\n",
       "      <td>object</td>\n",
       "      <td>4527</td>\n",
       "      <td>87656</td>\n",
       "    </tr>\n",
       "    <tr>\n",
       "      <th>26</th>\n",
       "      <td>REVIEW</td>\n",
       "      <td>review_comment_message</td>\n",
       "      <td>object</td>\n",
       "      <td>36159</td>\n",
       "      <td>58247</td>\n",
       "    </tr>\n",
       "    <tr>\n",
       "      <th>33</th>\n",
       "      <td>ORDER</td>\n",
       "      <td>order_approved_at</td>\n",
       "      <td>object</td>\n",
       "      <td>90733</td>\n",
       "      <td>160</td>\n",
       "    </tr>\n",
       "    <tr>\n",
       "      <th>34</th>\n",
       "      <td>ORDER</td>\n",
       "      <td>order_delivered_carrier_date</td>\n",
       "      <td>object</td>\n",
       "      <td>81018</td>\n",
       "      <td>1783</td>\n",
       "    </tr>\n",
       "    <tr>\n",
       "      <th>35</th>\n",
       "      <td>ORDER</td>\n",
       "      <td>order_delivered_customer_date</td>\n",
       "      <td>object</td>\n",
       "      <td>95664</td>\n",
       "      <td>2965</td>\n",
       "    </tr>\n",
       "    <tr>\n",
       "      <th>38</th>\n",
       "      <td>PRODUCT</td>\n",
       "      <td>product_category_name</td>\n",
       "      <td>object</td>\n",
       "      <td>73</td>\n",
       "      <td>610</td>\n",
       "    </tr>\n",
       "    <tr>\n",
       "      <th>39</th>\n",
       "      <td>PRODUCT</td>\n",
       "      <td>product_name_lenght</td>\n",
       "      <td>float64</td>\n",
       "      <td>66</td>\n",
       "      <td>610</td>\n",
       "    </tr>\n",
       "    <tr>\n",
       "      <th>40</th>\n",
       "      <td>PRODUCT</td>\n",
       "      <td>product_description_lenght</td>\n",
       "      <td>float64</td>\n",
       "      <td>2960</td>\n",
       "      <td>610</td>\n",
       "    </tr>\n",
       "    <tr>\n",
       "      <th>41</th>\n",
       "      <td>PRODUCT</td>\n",
       "      <td>product_photos_qty</td>\n",
       "      <td>float64</td>\n",
       "      <td>19</td>\n",
       "      <td>610</td>\n",
       "    </tr>\n",
       "    <tr>\n",
       "      <th>42</th>\n",
       "      <td>PRODUCT</td>\n",
       "      <td>product_weight_g</td>\n",
       "      <td>float64</td>\n",
       "      <td>2204</td>\n",
       "      <td>2</td>\n",
       "    </tr>\n",
       "    <tr>\n",
       "      <th>43</th>\n",
       "      <td>PRODUCT</td>\n",
       "      <td>product_length_cm</td>\n",
       "      <td>float64</td>\n",
       "      <td>99</td>\n",
       "      <td>2</td>\n",
       "    </tr>\n",
       "    <tr>\n",
       "      <th>44</th>\n",
       "      <td>PRODUCT</td>\n",
       "      <td>product_height_cm</td>\n",
       "      <td>float64</td>\n",
       "      <td>102</td>\n",
       "      <td>2</td>\n",
       "    </tr>\n",
       "    <tr>\n",
       "      <th>45</th>\n",
       "      <td>PRODUCT</td>\n",
       "      <td>product_width_cm</td>\n",
       "      <td>float64</td>\n",
       "      <td>95</td>\n",
       "      <td>2</td>\n",
       "    </tr>\n",
       "  </tbody>\n",
       "</table>\n",
       "</div>"
      ],
      "text/plain": [
       "     Donnee                    Nom colonne     Type Valeurs uniques  \\\n",
       "25   REVIEW           review_comment_title   object            4527   \n",
       "26   REVIEW         review_comment_message   object           36159   \n",
       "33    ORDER              order_approved_at   object           90733   \n",
       "34    ORDER   order_delivered_carrier_date   object           81018   \n",
       "35    ORDER  order_delivered_customer_date   object           95664   \n",
       "38  PRODUCT          product_category_name   object              73   \n",
       "39  PRODUCT            product_name_lenght  float64              66   \n",
       "40  PRODUCT     product_description_lenght  float64            2960   \n",
       "41  PRODUCT             product_photos_qty  float64              19   \n",
       "42  PRODUCT               product_weight_g  float64            2204   \n",
       "43  PRODUCT              product_length_cm  float64              99   \n",
       "44  PRODUCT              product_height_cm  float64             102   \n",
       "45  PRODUCT               product_width_cm  float64              95   \n",
       "\n",
       "   Nombre de NaN  \n",
       "25         87656  \n",
       "26         58247  \n",
       "33           160  \n",
       "34          1783  \n",
       "35          2965  \n",
       "38           610  \n",
       "39           610  \n",
       "40           610  \n",
       "41           610  \n",
       "42             2  \n",
       "43             2  \n",
       "44             2  \n",
       "45             2  "
      ]
     },
     "execution_count": 11,
     "metadata": {},
     "output_type": "execute_result"
    }
   ],
   "source": [
    "null_data = resume_data.loc[(resume_data['Nombre de NaN'] != 0)]\n",
    "null_data"
   ]
  },
  {
   "cell_type": "markdown",
   "id": "8655fcda",
   "metadata": {},
   "source": [
    "- On traitera les données manquantes après constituer le dataframe pour EDA "
   ]
  },
  {
   "cell_type": "markdown",
   "id": "a62d6ec3",
   "metadata": {},
   "source": [
    "# Analyse exploiratoire de chaque frame"
   ]
  },
  {
   "cell_type": "markdown",
   "id": "d75c95d7",
   "metadata": {},
   "source": [
    "## Customer "
   ]
  },
  {
   "cell_type": "code",
   "execution_count": 12,
   "id": "e01d0ec5",
   "metadata": {},
   "outputs": [
    {
     "name": "stdout",
     "output_type": "stream",
     "text": [
      "\u001b[1m\u001b[91mNombre de villes : \u001b[0m 4119\n",
      "\u001b[1m\u001b[92mNombre des états : \u001b[0m 27\n"
     ]
    }
   ],
   "source": [
    "print(color.BOLD + color.RED + 'Nombre de villes : ' + color.END,customer.customer_city.nunique())\n",
    "print(color.BOLD + color.GREEN + 'Nombre des états : ' + color.END,customer.customer_state.nunique())"
   ]
  },
  {
   "cell_type": "code",
   "execution_count": 13,
   "id": "4ff4c74d",
   "metadata": {},
   "outputs": [
    {
     "data": {
      "image/png": "[encoded data removed]",
      "text/plain": [
       "<Figure size 720x360 with 1 Axes>"
      ]
     },
     "metadata": {
      "needs_background": "light"
     },
     "output_type": "display_data"
    }
   ],
   "source": [
    "# Distribution des customers par état\n",
    "plt.figure(figsize=(10,5))\n",
    "sns.countplot(x='customer_state', data=customer)\n",
    "plt.title('Distrubution des état par nbr des customers', fontsize = 20)\n",
    "plt.xlabel('Etat')\n",
    "plt.ylabel('Nbr de Customers')\n",
    "plt.show()"
   ]
  },
  {
   "cell_type": "markdown",
   "id": "1a127e9a",
   "metadata": {},
   "source": [
    "## Item"
   ]
  },
  {
   "cell_type": "code",
   "execution_count": 14,
   "id": "0a611f81",
   "metadata": {},
   "outputs": [
    {
     "data": {
      "image/png": "[encoded data removed]",
      "text/plain": [
       "<Figure size 576x360 with 1 Axes>"
      ]
     },
     "metadata": {
      "needs_background": "light"
     },
     "output_type": "display_data"
    }
   ],
   "source": [
    "# La distribution du prix \n",
    "plt.figure(figsize=(8,5))\n",
    "sns.boxplot(item['price'])\n",
    "plt.title('Distribution de Prix' ,fontsize = 20 , weight='bold')\n",
    "plt.xlabel('Prix')\n",
    "plt.show()"
   ]
  },
  {
   "cell_type": "code",
   "execution_count": 15,
   "id": "063e9cda",
   "metadata": {},
   "outputs": [],
   "source": [
    "df_total_value_prod = item.groupby('product_id').agg({'price': 'sum', \n",
    "                               'freight_value': 'sum'})\n",
    "df_total_value_prod['total_value'] = df_total_value_prod['price'] + df_total_value_prod['freight_value']\n",
    "df_total_value_prod[\"freight_ratio\"] = (round(df_total_value_prod['freight_value']/ df_total_value_prod['total_value'],2))\n",
    "df_total_value_prod = df_total_value_prod.reset_index()"
   ]
  },
  {
   "cell_type": "code",
   "execution_count": 16,
   "id": "c7edba8a",
   "metadata": {},
   "outputs": [
    {
     "data": {
      "text/plain": [
       "32951"
      ]
     },
     "execution_count": 16,
     "metadata": {},
     "output_type": "execute_result"
    }
   ],
   "source": [
    "df_total_value_prod['product_id'].nunique()"
   ]
  },
  {
   "cell_type": "markdown",
   "id": "d1f7534f",
   "metadata": {},
   "source": [
    "## Product & Category"
   ]
  },
  {
   "cell_type": "code",
   "execution_count": 17,
   "id": "d0b39675",
   "metadata": {},
   "outputs": [
    {
     "data": {
      "image/png": "[encoded data removed]",
      "text/plain": [
       "<Figure size 864x360 with 1 Axes>"
      ]
     },
     "metadata": {
      "needs_background": "light"
     },
     "output_type": "display_data"
    }
   ],
   "source": [
    "proud_price_df = pd.merge(product, df_total_value_prod, on  = 'product_id', how = 'inner')\n",
    "proud_price_df_top20 = proud_price_df.sort_values(by = 'freight_ratio', ascending = False).head(20)\n",
    "plt.figure(figsize = (12, 5))\n",
    "sns.barplot( data = proud_price_df_top20, x= 'product_category_name', y = 'freight_ratio')\n",
    "plt.xticks(rotation= 90, fontsize = 10)\n",
    "plt.show()"
   ]
  },
  {
   "cell_type": "code",
   "execution_count": 18,
   "id": "9d9254aa",
   "metadata": {},
   "outputs": [
    {
     "name": "stdout",
     "output_type": "stream",
     "text": [
      "Nombre des categories de produits : 71\n"
     ]
    },
    {
     "data": {
      "text/html": [
       "<div>\n",
       "<style scoped>\n",
       "    .dataframe tbody tr th:only-of-type {\n",
       "        vertical-align: middle;\n",
       "    }\n",
       "\n",
       "    .dataframe tbody tr th {\n",
       "        vertical-align: top;\n",
       "    }\n",
       "\n",
       "    .dataframe thead th {\n",
       "        text-align: right;\n",
       "    }\n",
       "</style>\n",
       "<table border=\"1\" class=\"dataframe\">\n",
       "  <thead>\n",
       "    <tr style=\"text-align: right;\">\n",
       "      <th></th>\n",
       "      <th>category</th>\n",
       "      <th>nmbr_category</th>\n",
       "    </tr>\n",
       "  </thead>\n",
       "  <tbody>\n",
       "    <tr>\n",
       "      <th>0</th>\n",
       "      <td>bed_bath_table</td>\n",
       "      <td>3029</td>\n",
       "    </tr>\n",
       "    <tr>\n",
       "      <th>1</th>\n",
       "      <td>sports_leisure</td>\n",
       "      <td>2867</td>\n",
       "    </tr>\n",
       "    <tr>\n",
       "      <th>2</th>\n",
       "      <td>furniture_decor</td>\n",
       "      <td>2657</td>\n",
       "    </tr>\n",
       "    <tr>\n",
       "      <th>3</th>\n",
       "      <td>health_beauty</td>\n",
       "      <td>2444</td>\n",
       "    </tr>\n",
       "    <tr>\n",
       "      <th>4</th>\n",
       "      <td>housewares</td>\n",
       "      <td>2335</td>\n",
       "    </tr>\n",
       "    <tr>\n",
       "      <th>5</th>\n",
       "      <td>auto</td>\n",
       "      <td>1900</td>\n",
       "    </tr>\n",
       "    <tr>\n",
       "      <th>6</th>\n",
       "      <td>computers_accessories</td>\n",
       "      <td>1639</td>\n",
       "    </tr>\n",
       "    <tr>\n",
       "      <th>7</th>\n",
       "      <td>toys</td>\n",
       "      <td>1411</td>\n",
       "    </tr>\n",
       "    <tr>\n",
       "      <th>8</th>\n",
       "      <td>watches_gifts</td>\n",
       "      <td>1329</td>\n",
       "    </tr>\n",
       "    <tr>\n",
       "      <th>9</th>\n",
       "      <td>telephony</td>\n",
       "      <td>1134</td>\n",
       "    </tr>\n",
       "    <tr>\n",
       "      <th>10</th>\n",
       "      <td>baby</td>\n",
       "      <td>919</td>\n",
       "    </tr>\n",
       "    <tr>\n",
       "      <th>11</th>\n",
       "      <td>perfumery</td>\n",
       "      <td>868</td>\n",
       "    </tr>\n",
       "    <tr>\n",
       "      <th>12</th>\n",
       "      <td>fashion_bags_accessories</td>\n",
       "      <td>849</td>\n",
       "    </tr>\n",
       "    <tr>\n",
       "      <th>13</th>\n",
       "      <td>stationery</td>\n",
       "      <td>849</td>\n",
       "    </tr>\n",
       "    <tr>\n",
       "      <th>14</th>\n",
       "      <td>cool_stuff</td>\n",
       "      <td>789</td>\n",
       "    </tr>\n",
       "  </tbody>\n",
       "</table>\n",
       "</div>"
      ],
      "text/plain": [
       "                    category  nmbr_category\n",
       "0             bed_bath_table           3029\n",
       "1             sports_leisure           2867\n",
       "2            furniture_decor           2657\n",
       "3              health_beauty           2444\n",
       "4                 housewares           2335\n",
       "5                       auto           1900\n",
       "6      computers_accessories           1639\n",
       "7                       toys           1411\n",
       "8              watches_gifts           1329\n",
       "9                  telephony           1134\n",
       "10                      baby            919\n",
       "11                 perfumery            868\n",
       "12  fashion_bags_accessories            849\n",
       "13                stationery            849\n",
       "14                cool_stuff            789"
      ]
     },
     "execution_count": 18,
     "metadata": {},
     "output_type": "execute_result"
    }
   ],
   "source": [
    "# Merge des dataframe product & category \n",
    "product_new = pd.merge(product, category,\n",
    "                    how=\"left\",\n",
    "                    on=\"product_category_name\")\n",
    "\n",
    "\n",
    "\n",
    "print(\"Nombre des categories de produits :\" , product_new['product_category_name_english'].nunique())\n",
    "top_category = pd.DataFrame(product_new['product_category_name_english'].value_counts()).reset_index()\n",
    "top_category.rename(columns={'index': 'category','product_category_name_english': 'nmbr_category'},\n",
    "                    inplace=True)\n",
    "top15_cat = top_category.sort_values(by = 'nmbr_category', ascending = False).head(15)\n",
    "top15_cat"
   ]
  },
  {
   "cell_type": "code",
   "execution_count": 19,
   "id": "28dd59db",
   "metadata": {},
   "outputs": [
    {
     "data": {
      "image/png": "[encoded data removed]",
      "text/plain": [
       "<Figure size 576x360 with 1 Axes>"
      ]
     },
     "metadata": {
      "needs_background": "light"
     },
     "output_type": "display_data"
    }
   ],
   "source": [
    "product_new['product_category'] = np.where((product_new['product_category_name'].str.contains(\"fashio|luggage\")==True),\n",
    "                                    'fashion_clothing_accessories',\n",
    "                            np.where((product_new['product_category_name'].str.contains(\"health|beauty|perfum\")==True),\n",
    "                                     'health_beauty',\n",
    "                            np.where((product_new['product_category_name'].str.contains(\"toy|baby|diaper\")==True),\n",
    "                                     'toys_baby',\n",
    "                            np.where((product_new['product_category_name'].str.contains(\"book|cd|dvd|media\")==True),\n",
    "                                     'books_cds_media',\n",
    "                            np.where((product_new['product_category_name'].str.contains(\"grocer|food|drink\")==True), \n",
    "                                     'groceries_food_drink',\n",
    "                            np.where((product_new['product_category_name'].str.contains(\"phon|compu|tablet|electro|consol\")==True), \n",
    "                                     'technology',\n",
    "                            np.where((product_new['product_category_name'].str.contains(\"home|furnitur|garden|bath|house|applianc\")==True), \n",
    "                                     'home_furniture',\n",
    "                            np.where((product_new['product_category_name'].str.contains(\"flow|gift|stuff\")==True),\n",
    "                                     'flowers_gifts',\n",
    "                            np.where((product_new['product_category_name'].str.contains(\"sport\")==True),\n",
    "                                     'sport',\n",
    "                                     'other')))))))))\n",
    "\n",
    "plt.figure(figsize=(8,5))\n",
    "sns.countplot(data = product_new , y= 'product_category' )\n",
    "plt.title('Distribution des produits par catégorie', fontsize= 20 , weight='bold')\n",
    "plt.xticks(rotation= 90, fontsize = 10)\n",
    "plt.show()"
   ]
  },
  {
   "cell_type": "code",
   "execution_count": 20,
   "id": "bb32b506",
   "metadata": {},
   "outputs": [
    {
     "data": {
      "image/png": "[encoded data removed]",
      "text/plain": [
       "<Figure size 360x216 with 1 Axes>"
      ]
     },
     "metadata": {
      "needs_background": "light"
     },
     "output_type": "display_data"
    }
   ],
   "source": [
    "# La distribution du product_name lentgh\n",
    "plt.figure(figsize=(5,3))\n",
    "sns.histplot(x='product_description_lenght', data=product_new, color = 'blue')\n",
    "plt.title('Distribution de product_name lentgh', fontsize = 20)\n",
    "plt.xlabel('product_name_lenght')\n",
    "plt.show()"
   ]
  },
  {
   "cell_type": "code",
   "execution_count": 21,
   "id": "ff22c67f",
   "metadata": {},
   "outputs": [
    {
     "data": {
      "text/plain": [
       "Text(0.5, 0, 'Quantité de photo')"
      ]
     },
     "execution_count": 21,
     "metadata": {},
     "output_type": "execute_result"
    },
    {
     "data": {
      "image/png": "[encoded data removed]",
      "text/plain": [
       "<Figure size 360x216 with 1 Axes>"
      ]
     },
     "metadata": {
      "needs_background": "light"
     },
     "output_type": "display_data"
    }
   ],
   "source": [
    "# Distribution de quantité de photo des produits\n",
    "plt.figure(figsize=(5,3))\n",
    "sns.countplot(x='product_photos_qty', data=product_new, color = 'blue')\n",
    "plt.title('Distribution de quantité de photo des produits', fontsize= 20)\n",
    "plt.xlabel('Quantité de photo')"
   ]
  },
  {
   "cell_type": "markdown",
   "id": "62a1b9f4",
   "metadata": {},
   "source": [
    "## Payment "
   ]
  },
  {
   "cell_type": "code",
   "execution_count": 22,
   "id": "b26d406b",
   "metadata": {},
   "outputs": [
    {
     "name": "stdout",
     "output_type": "stream",
     "text": [
      "\u001b[1m\u001b[91mNbr de mode de payment : \u001b[0m 5\n"
     ]
    }
   ],
   "source": [
    "print(color.BOLD + color.RED + 'Nbr de mode de payment : ' + color.END,payment['payment_type'].nunique())  "
   ]
  },
  {
   "cell_type": "code",
   "execution_count": 23,
   "id": "13cadd26",
   "metadata": {},
   "outputs": [
    {
     "data": {
      "image/png": "[encoded data removed]",
      "text/plain": [
       "<Figure size 576x360 with 1 Axes>"
      ]
     },
     "metadata": {
      "needs_background": "light"
     },
     "output_type": "display_data"
    }
   ],
   "source": [
    "# Mode de paiement \n",
    "plt.figure(figsize=(8,5))\n",
    "sns.countplot(x='payment_type', data=payment)\n",
    "plt.title('Mode de Paiement', fontsize = 20 , weight='bold')\n",
    "plt.xticks(rotation= 90, fontsize = 10)\n",
    "plt.ylabel('Nmbre des client')\n",
    "plt.show()"
   ]
  },
  {
   "cell_type": "code",
   "execution_count": 24,
   "id": "2ebe8ff1",
   "metadata": {},
   "outputs": [
    {
     "name": "stdout",
     "output_type": "stream",
     "text": [
      "Type_payment == non-défini :  3\n"
     ]
    }
   ],
   "source": [
    "# Afficher le nbr de ligne avec 'type_payement == non définit'\n",
    "print(\"Type_payment == non-défini : \", payment.loc[payment['payment_type']=='not_defined'].shape[0])"
   ]
  },
  {
   "cell_type": "code",
   "execution_count": 25,
   "id": "05743d5c",
   "metadata": {},
   "outputs": [],
   "source": [
    "#Supprimer les lignes dont le mode de paiment n'est pas défini\n",
    "payment_new = payment.loc[payment['payment_type']!='not_defined']"
   ]
  },
  {
   "cell_type": "code",
   "execution_count": 120,
   "id": "0a5121d1",
   "metadata": {},
   "outputs": [
    {
     "data": {
      "image/png": "[encoded data removed]",
      "text/plain": [
       "<Figure size 576x360 with 1 Axes>"
      ]
     },
     "metadata": {
      "needs_background": "light"
     },
     "output_type": "display_data"
    }
   ],
   "source": [
    "# Montant payé par mode de paiment \n",
    "plt.figure(figsize=(8,5))\n",
    "sns.barplot(y='payment_type', x='payment_value', data=payment_new, ci=50)\n",
    "plt.title('Montant payé par chaque méthode de paiment', fontsize = 20 , weight='bold')\n",
    "plt.xlabel('Mode de paiement')\n",
    "plt.ylabel('Le montant')\n",
    "plt.show()"
   ]
  },
  {
   "cell_type": "code",
   "execution_count": 107,
   "id": "a38c2066",
   "metadata": {},
   "outputs": [
    {
     "data": {
      "image/png": "[encoded data removed]",
      "text/plain": [
       "<Figure size 576x360 with 1 Axes>"
      ]
     },
     "metadata": {
      "needs_background": "light"
     },
     "output_type": "display_data"
    }
   ],
   "source": [
    "# Paiement echalonné \n",
    "\n",
    "# distrubution de nombre des paiment échelonnés\n",
    "plt.figure(figsize=(8,5))\n",
    "sns.countplot(x='payment_installments', data=payment_new)\n",
    "plt.title('Paiment échalonné', fontsize = 20 , weight='bold')\n",
    "#plt.xlabel('Payment Installments')\n",
    "plt.ylabel('Nbr. des clients')\n",
    "plt.show()"
   ]
  },
  {
   "cell_type": "markdown",
   "id": "144e168a",
   "metadata": {},
   "source": [
    "## Order"
   ]
  },
  {
   "cell_type": "code",
   "execution_count": 103,
   "id": "97cdbcef",
   "metadata": {},
   "outputs": [],
   "source": [
    "def plot_ts_decompose(decompose,figsize=(12,8)):\n",
    "\n",
    "    fig, ax = plt.subplots(4,1,figsize=figsize)\n",
    "    sns.lineplot(data=decompose.observed,x=decompose.observed.index,y=decompose.observed,ax=ax[0])\n",
    "    sns.lineplot(data=decompose.trend,x=decompose.trend.index,y=decompose.trend,ax=ax[1])\n",
    "    sns.lineplot(data=decompose.seasonal,x=decompose.seasonal.index,y=decompose.seasonal,ax=ax[2])\n",
    "    sns.lineplot(data=decompose.resid,x=decompose.resid.index,y=decompose.resid,ax=ax[3])\n",
    "    \n",
    "    plt.tight_layout()"
   ]
  },
  {
   "cell_type": "code",
   "execution_count": 104,
   "id": "c090e493",
   "metadata": {},
   "outputs": [
    {
     "data": {
      "text/plain": [
       "<Figure size 720x720 with 0 Axes>"
      ]
     },
     "metadata": {},
     "output_type": "display_data"
    },
    {
     "data": {
      "image/png": "[encoded data removed]",
      "text/plain": [
       "<Figure size 864x576 with 4 Axes>"
      ]
     },
     "metadata": {
      "needs_background": "light"
     },
     "output_type": "display_data"
    }
   ],
   "source": [
    "order['month_year'] = order['order_purchase_timestamp'].dt.to_period('M')\n",
    "order['week_year'] = order['order_purchase_timestamp'].dt.to_period('W')\n",
    "order_purchase_timestamp = order.groupby('month_year').size()\n",
    "order_purchase_timestamp.index = order_purchase_timestamp.index.astype('datetime64[ns]')\n",
    "plt.figure(figsize = (10,10))\n",
    "decompose = seasonal_decompose(order_purchase_timestamp,model='additive', period=12, extrapolate_trend=12)\n",
    "plot_ts_decompose(decompose)\n"
   ]
  },
  {
   "cell_type": "code",
   "execution_count": 30,
   "id": "8522dc64",
   "metadata": {},
   "outputs": [
    {
     "data": {
      "image/png": "[encoded data removed]",
      "text/plain": [
       "<Figure size 720x360 with 1 Axes>"
      ]
     },
     "metadata": {
      "needs_background": "light"
     },
     "output_type": "display_data"
    }
   ],
   "source": [
    "# Distribution de \"order status\"\n",
    "plt.figure(figsize=(10,5))\n",
    "sns.countplot(x='order_status', data=order)\n",
    "plt.title(' Order status', fontsize = 20 , weight='bold')\n",
    "plt.xticks(rotation= 90, fontsize = 15)\n",
    "plt.show()"
   ]
  },
  {
   "cell_type": "code",
   "execution_count": 31,
   "id": "0651d652",
   "metadata": {},
   "outputs": [
    {
     "data": {
      "text/plain": [
       "order_id                          0\n",
       "customer_id                       0\n",
       "order_status                      0\n",
       "order_purchase_timestamp          0\n",
       "order_approved_at                14\n",
       "order_delivered_carrier_date      2\n",
       "order_delivered_customer_date     8\n",
       "order_estimated_delivery_date     0\n",
       "month_year                        0\n",
       "week_year                         0\n",
       "dtype: int64"
      ]
     },
     "execution_count": 31,
     "metadata": {},
     "output_type": "execute_result"
    }
   ],
   "source": [
    "# Conserver uniquement les commandes livrés\n",
    "order_new  = order.loc[(order['order_status']==\"delivered\")]\n",
    "order_new.isna().sum()"
   ]
  },
  {
   "cell_type": "code",
   "execution_count": 32,
   "id": "0ef14b9e",
   "metadata": {},
   "outputs": [],
   "source": [
    "order_new = order_new[~order_new[\"order_delivered_customer_date\"].isna()]"
   ]
  },
  {
   "cell_type": "code",
   "execution_count": 33,
   "id": "9dd87a8f",
   "metadata": {},
   "outputs": [],
   "source": [
    "order_new['command_approved'] = (order_new['order_approved_at'] - order_new['order_purchase_timestamp']).dt.seconds\n",
    "order_new['delivery_days'] = (order_new['order_delivered_customer_date'] - order_new['order_purchase_timestamp']).dt.days\n",
    "order_new['delivery_estimation'] = (order_new['order_estimated_delivery_date']-order_new['order_delivered_customer_date']).dt.days"
   ]
  },
  {
   "cell_type": "code",
   "execution_count": 34,
   "id": "b56dd993",
   "metadata": {},
   "outputs": [
    {
     "name": "stdout",
     "output_type": "stream",
     "text": [
      "Délais de moyenne de confirmation de commande: 3.93 heurs\n",
      "Délais de de moyenne de livraison de commande au client : 12 days\n",
      "Délais de moyenne de livraison actuelle et livraison estimée: 11 days\n"
     ]
    }
   ],
   "source": [
    "print(str.format('Délais de moyenne de confirmation de commande: {:.2f} heurs', order_new['command_approved'].mean()/3600))\n",
    "print(str.format('Délais de de moyenne de livraison de commande au client : {:.0f} days', order_new['delivery_days'].mean()))\n",
    "print(str.format('Délais de moyenne de livraison actuelle et livraison estimée: {:.0f} days', order_new['delivery_estimation'].mean()))"
   ]
  },
  {
   "cell_type": "markdown",
   "id": "04d76ed0",
   "metadata": {},
   "source": [
    "## Seller"
   ]
  },
  {
   "cell_type": "code",
   "execution_count": 35,
   "id": "49a4d0bb",
   "metadata": {},
   "outputs": [
    {
     "data": {
      "image/png": "[encoded data removed]",
      "text/plain": [
       "<Figure size 576x576 with 1 Axes>"
      ]
     },
     "metadata": {},
     "output_type": "display_data"
    }
   ],
   "source": [
    "sellers['seller_id_shorten'] = sellers['seller_id'].str[-3:]\n",
    "plt.figure(figsize=(8,8))\n",
    "sellers['seller_id_shorten'].value_counts()[:10].plot.pie(autopct='%1.1f%%',\n",
    "        shadow=True, startangle=90, cmap='tab20')\n",
    "plt.title(\"Top 10 Seller\",size=20, weight='bold')\n",
    "plt.show()"
   ]
  },
  {
   "cell_type": "code",
   "execution_count": 100,
   "id": "22e5cf7f",
   "metadata": {},
   "outputs": [
    {
     "name": "stdout",
     "output_type": "stream",
     "text": [
      "Nbre des état des vendeurs: 23\n"
     ]
    }
   ],
   "source": [
    "print(\"Nbre des état des vendeurs:\",sellers['seller_state'].nunique())\n",
    "\n",
    "seller_etat = sellers.groupby('seller_state').agg({\"seller_id\" : 'count'}).reset_index()\n",
    "\n",
    "#Trier et afficher les top10 etats \n",
    "seller_etat = seller_etat.sort_values(by = \"seller_id\", ascending = False).head(10)"
   ]
  },
  {
   "cell_type": "code",
   "execution_count": 98,
   "id": "0318c7a4",
   "metadata": {},
   "outputs": [
    {
     "data": {
      "text/plain": [
       "Text(0, 0.5, 'No. vendeurs')"
      ]
     },
     "execution_count": 98,
     "metadata": {},
     "output_type": "execute_result"
    },
    {
     "data": {
      "image/png": "[encoded data removed]",
      "text/plain": [
       "<Figure size 576x360 with 1 Axes>"
      ]
     },
     "metadata": {
      "needs_background": "light"
     },
     "output_type": "display_data"
    }
   ],
   "source": [
    "\n",
    "\n",
    "# plotting etats des vendeurs\n",
    "plt.figure(figsize=(8,5))\n",
    "sns.barplot(x='seller_state', y = 'seller_id',\n",
    "              data= seller_etat)\n",
    "plt.title('Distribution des états des vendeurs', fontsize = 20 , weight='bold')\n",
    "plt.xlabel('Etat')\n",
    "plt.ylabel('No. vendeurs')"
   ]
  },
  {
   "cell_type": "markdown",
   "id": "649d6647",
   "metadata": {},
   "source": [
    "## Review"
   ]
  },
  {
   "cell_type": "code",
   "execution_count": 37,
   "id": "6980403b",
   "metadata": {},
   "outputs": [],
   "source": [
    "# Supprimer les colonne dont on n'a pas besoin\n",
    "review_new =  review.drop(columns=['review_comment_title', 'review_comment_message'])"
   ]
  },
  {
   "cell_type": "code",
   "execution_count": 38,
   "id": "296ecda9",
   "metadata": {},
   "outputs": [
    {
     "data": {
      "image/png": "[encoded data removed]",
      "text/plain": [
       "<Figure size 576x360 with 1 Axes>"
      ]
     },
     "metadata": {
      "needs_background": "light"
     },
     "output_type": "display_data"
    }
   ],
   "source": [
    "# Distribution de \"review score\"\n",
    "plt.figure(figsize=(8,5))\n",
    "sns.countplot(x='review_score', data=review)\n",
    "plt.title(' Review Score', fontsize = 20 , weight='bold')\n",
    "plt.xlabel('Score')\n",
    "plt.ylabel('No. of Reviews')\n",
    "plt.show()"
   ]
  },
  {
   "cell_type": "markdown",
   "id": "05f4bba2",
   "metadata": {},
   "source": [
    "## Geolocalisation"
   ]
  },
  {
   "cell_type": "code",
   "execution_count": 39,
   "id": "35dc32e6",
   "metadata": {},
   "outputs": [
    {
     "data": {
      "image/png": "[encoded data removed]",
      "text/plain": [
       "<Figure size 720x720 with 1 Axes>"
      ]
     },
     "metadata": {},
     "output_type": "display_data"
    }
   ],
   "source": [
    "lat = geoloc['geolocation_lat']\n",
    "lon = geoloc['geolocation_lng']\n",
    "\n",
    "plt.figure(figsize=(10,10))\n",
    "\n",
    "m = Basemap(llcrnrlat=-55.401805,llcrnrlon=-92.269176,urcrnrlat=13.884615,urcrnrlon=-27.581676)\n",
    "m.bluemarble()\n",
    "m.drawmapboundary(fill_color='#46bcec') # Make your map into any style you like\n",
    "m.fillcontinents(color='#f2f2f2',lake_color='#46bcec') # Make your map into any style you like\n",
    "#m.drawcoastlines()\n",
    "m.drawcountries()\n",
    "m.scatter(lon, lat,zorder=10,alpha=0.5,color='green')\n",
    "plt.title(\"Localisation des clients\", fontsize = 20 , weight = 'bold')\n",
    "plt.show()"
   ]
  },
  {
   "cell_type": "code",
   "execution_count": 40,
   "id": "3c92a567",
   "metadata": {},
   "outputs": [
    {
     "name": "stdout",
     "output_type": "stream",
     "text": [
      "La période complète des commandes _jours :  713 days 02:43:59\n"
     ]
    }
   ],
   "source": [
    "# La période des orders \n",
    "start = order_new[\"order_purchase_timestamp\"].min()\n",
    "end = order_new[\"order_purchase_timestamp\"].max()\n",
    "print(\"La période complète des commandes _jours : \", end -start)"
   ]
  },
  {
   "cell_type": "markdown",
   "id": "89258b33",
   "metadata": {},
   "source": [
    "- On a les donnée de presque 23 mois de septembre 2016 au septembre 2018"
   ]
  },
  {
   "cell_type": "markdown",
   "id": "edf33ee0",
   "metadata": {},
   "source": [
    "## Bilan sur EDA des dataframes \n",
    "\n",
    "- On a les client de 4119 villes et de 27 états en Brézil\n",
    "- Délais moyen de confirmation de chaque commande est de 3.93 heurs.\n",
    "- Délais moyen de livraison de commande au client est 12 days\n",
    "- Délais moyen de livraison actuelle et livraison estimée est 11 days\n",
    "- Les clients ont 4 mode de paiment.\n",
    "- La période complète des commande est de 713 jours. \n"
   ]
  },
  {
   "cell_type": "code",
   "execution_count": 41,
   "id": "7624d38e",
   "metadata": {},
   "outputs": [],
   "source": [
    "# Supprimer les colonnes qui ne sont pas nécessiares\n",
    "orders_new = order.drop([\"order_approved_at\",\n",
    "                 \"order_delivered_carrier_date\", \n",
    "                 \"order_estimated_delivery_date\"],\n",
    "                axis=1)\n",
    "order_new = order_new[['order_id',\n",
    " 'customer_id',\n",
    " 'order_purchase_timestamp',\n",
    " 'month_year',\n",
    " 'week_year',\n",
    " 'delivery_days',\n",
    " 'delivery_estimation']]\n",
    "\n",
    "\n",
    "item_new = item.drop([\"seller_id\",\n",
    "                      \"shipping_limit_date\"],\n",
    "                     axis=1)\n",
    "\n",
    "product_new = product_new.drop([\n",
    "'product_name_lenght',\n",
    " 'product_description_lenght',\n",
    " 'product_photos_qty',\n",
    " 'product_weight_g',\n",
    " 'product_length_cm',\n",
    " 'product_height_cm',\n",
    " 'product_width_cm',\n",
    " 'product_category_name_english'], axis= 1)"
   ]
  },
  {
   "cell_type": "markdown",
   "id": "368763d1",
   "metadata": {},
   "source": [
    "## Créer un dataframe pour la modelisation "
   ]
  },
  {
   "cell_type": "markdown",
   "id": "ac024c4f",
   "metadata": {},
   "source": [
    "- On va regrouper les dataframe pour créer un df pour la modélisation"
   ]
  },
  {
   "cell_type": "code",
   "execution_count": 229,
   "id": "358e544d",
   "metadata": {},
   "outputs": [],
   "source": [
    "# Regroupement des datas \n",
    "\n",
    "df =  pd.merge(order_new ,review_new, on='order_id', how='inner')\n",
    "\n",
    "df = pd.merge(df, payment_new, on='order_id', how='inner')\n",
    "\n",
    "df = pd.merge(df,item_new, on = 'order_id', how = 'inner')\n",
    "\n",
    "df = pd.merge(df,product_new, on = 'product_id', how = 'inner')\n",
    "\n",
    "#df = df.merge(sellers, on = 'seller_id', how= 'inner')\n",
    "\n",
    "df= pd.merge(df,customer, on = 'customer_id', how= 'inner')\n",
    "\n",
    "#df= df.merge(geoloc, left_on='customer_zip_code_prefix', \n",
    "#                      right_on='geolocation_zip_code_prefix', how='inner')"
   ]
  },
  {
   "cell_type": "markdown",
   "id": "9a39269b",
   "metadata": {},
   "source": [
    "## Feuture engineering "
   ]
  },
  {
   "cell_type": "code",
   "execution_count": 230,
   "id": "3d825f8e",
   "metadata": {},
   "outputs": [],
   "source": [
    "df['year'] = pd.DatetimeIndex(df['order_purchase_timestamp']).year\n",
    "df['month'] = pd.DatetimeIndex(df['order_purchase_timestamp']).month"
   ]
  },
  {
   "cell_type": "code",
   "execution_count": 124,
   "id": "bbea9889",
   "metadata": {},
   "outputs": [
    {
     "data": {
      "image/png": "[encoded data removed]",
      "text/plain": [
       "<Figure size 864x576 with 1 Axes>"
      ]
     },
     "metadata": {
      "needs_background": "light"
     },
     "output_type": "display_data"
    }
   ],
   "source": [
    "# Distribution of customers by city of Brazil\n",
    "distribution_ville = df[['customer_unique_id', 'customer_city']].groupby(['customer_city']).agg('count').reset_index()\n",
    "distribution_ville.rename(columns={'customer_unique_id': 'nombre_clients'},\n",
    "                    inplace=True)\n",
    "\n",
    "top20_ville = distribution_ville.sort_values(by = 'nombre_clients', ascending = False).head(20)\n",
    "\n",
    "\n",
    "plt.figure(figsize=(12,8))\n",
    "sns.barplot(data = top20_ville, x= 'nombre_clients', y ='customer_city')\n",
    "plt.title('Distribution of customers par la ville_top20 villes', fontsize = 20, weight = 'bold')\n",
    "plt.show()"
   ]
  },
  {
   "cell_type": "code",
   "execution_count": 235,
   "id": "f6ac2e61",
   "metadata": {},
   "outputs": [
    {
     "data": {
      "image/png": "[encoded data removed]",
      "text/plain": [
       "<Figure size 576x576 with 1 Axes>"
      ]
     },
     "metadata": {},
     "output_type": "display_data"
    }
   ],
   "source": [
    "# Les Categorie les plus achetés \n",
    "top_cat = df.sort_values(\n",
    "        ['customer_unique_id','product_category_name'], ascending=False).groupby(\n",
    "        ['customer_unique_id','product_category_name']).head(1)[[\n",
    "        'customer_unique_id', 'product_category_name']]\n",
    "top_cat.columns = ['customer_unique_id', 'top_cat_achetee']\n",
    "top_cat.set_index('customer_unique_id', inplace=True)\n",
    "labels  = top_cat['top_cat_achetee'].unique()\n",
    "\n",
    "\n",
    "# Piechart des catégorie de produits les plus achetées \n",
    "category_achetee = df[['customer_unique_id', 'product_category_name']].groupby(['product_category_name']).agg('count').reset_index()\n",
    "category_achetee.rename(columns={'customer_unique_id': 'nmbr_category'},\n",
    "                    inplace=True)\n",
    "\n",
    "top10_category_achetee  = category_achetee.sort_values(by = 'nmbr_category', ascending = False).head(10)\n",
    "\n",
    "#Plot top categorie achete par client\n",
    "palette = [\"#F4A460\",  \"#FFC0CB\", \"#E6E6FA\", \"#B0C4DE\", \"#FFF8DC\",\n",
    "           \"#2E8B57\", \"#B0E0E6\", \"#DA70D6\", \"#BC8F8F\", \"#6495ED\"]\n",
    "plt.figure(figsize=(8,8))\n",
    "plt.pie(top10_category_achetee['nmbr_category'], autopct='%1.2f%%', colors= palette)\n",
    "plt.title(\"Top 10 categories les plus achetées\",size=20, weight='bold')\n",
    "plt.legend(labels, bbox_to_anchor=(1,0.5), loc=\"best\", fontsize= 10)\n",
    "#plt.axis(\"off\")\n",
    "plt.show()"
   ]
  },
  {
   "cell_type": "code",
   "execution_count": 233,
   "id": "ca01554a",
   "metadata": {},
   "outputs": [],
   "source": [
    "max_date = max(df['order_purchase_timestamp']) + datetime.timedelta(days=1)\n",
    "\n",
    "order_items_pay = df.groupby('customer_unique_id')\\\n",
    ".agg({'payment_value':sum,\n",
    "      'delivery_days': 'mean', \n",
    "     'payment_installments' : 'mean', \n",
    "      'month' :'max', \n",
    "      'year': 'max', \n",
    "      'month_year' :'max',\n",
    "      'order_id' : lambda x: x.nunique(), \n",
    "      'review_score' : 'mean', \n",
    "      \"order_purchase_timestamp\": lambda x: (max_date - x.max()).days,\n",
    "       \"order_item_id\": lambda x: x.nunique(), \n",
    "      'product_id':'count', \n",
    "      'product_category_name':'count'\n",
    "       }).reset_index()\n",
    "\n",
    "order_items_pay = order_items_pay.rename(columns={\n",
    "                               'payment_value' : 'total_montant', \n",
    "                               'review_score': 'Note_Moy_Com',\n",
    "                               'product_id': 'Nbr_produits', \n",
    "                                'order_purchase_timestamp': 'recence', \n",
    "                                'order_id' : 'frequence', \n",
    "                                'order_purchase_timestamp': 'recence', \n",
    "                                'order_item_id' : 'nbr_commande', \n",
    "                                'product_category_name':'nmbr_category'})             \n",
    "\n",
    "order_items_pay['panier_moyen'] = order_items_pay['total_montant'] / order_items_pay['frequence']"
   ]
  },
  {
   "cell_type": "code",
   "execution_count": 234,
   "id": "4d1595bb",
   "metadata": {},
   "outputs": [
    {
     "data": {
      "text/html": [
       "<div>\n",
       "<style scoped>\n",
       "    .dataframe tbody tr th:only-of-type {\n",
       "        vertical-align: middle;\n",
       "    }\n",
       "\n",
       "    .dataframe tbody tr th {\n",
       "        vertical-align: top;\n",
       "    }\n",
       "\n",
       "    .dataframe thead th {\n",
       "        text-align: right;\n",
       "    }\n",
       "</style>\n",
       "<table border=\"1\" class=\"dataframe\">\n",
       "  <thead>\n",
       "    <tr style=\"text-align: right;\">\n",
       "      <th></th>\n",
       "      <th>customer_unique_id</th>\n",
       "      <th>total_montant</th>\n",
       "      <th>delivery_days</th>\n",
       "      <th>payment_installments</th>\n",
       "      <th>month</th>\n",
       "      <th>year</th>\n",
       "      <th>month_year</th>\n",
       "      <th>frequence</th>\n",
       "      <th>Note_Moy_Com</th>\n",
       "      <th>recence</th>\n",
       "      <th>nbr_commande</th>\n",
       "      <th>Nbr_produits</th>\n",
       "      <th>nmbr_category</th>\n",
       "      <th>panier_moyen</th>\n",
       "    </tr>\n",
       "  </thead>\n",
       "  <tbody>\n",
       "    <tr>\n",
       "      <th>0</th>\n",
       "      <td>0000366f3b9a7992bf8c76cfdf3221e2</td>\n",
       "      <td>141.90</td>\n",
       "      <td>6.0</td>\n",
       "      <td>8.0</td>\n",
       "      <td>5</td>\n",
       "      <td>2018</td>\n",
       "      <td>2018-05</td>\n",
       "      <td>1</td>\n",
       "      <td>5.0</td>\n",
       "      <td>112</td>\n",
       "      <td>1</td>\n",
       "      <td>1</td>\n",
       "      <td>1</td>\n",
       "      <td>141.90</td>\n",
       "    </tr>\n",
       "    <tr>\n",
       "      <th>1</th>\n",
       "      <td>0000b849f77a49e4a4ce2b2a4ca5be3f</td>\n",
       "      <td>27.19</td>\n",
       "      <td>3.0</td>\n",
       "      <td>1.0</td>\n",
       "      <td>5</td>\n",
       "      <td>2018</td>\n",
       "      <td>2018-05</td>\n",
       "      <td>1</td>\n",
       "      <td>4.0</td>\n",
       "      <td>115</td>\n",
       "      <td>1</td>\n",
       "      <td>1</td>\n",
       "      <td>1</td>\n",
       "      <td>27.19</td>\n",
       "    </tr>\n",
       "    <tr>\n",
       "      <th>2</th>\n",
       "      <td>0000f46a3911fa3c0805444483337064</td>\n",
       "      <td>86.22</td>\n",
       "      <td>25.0</td>\n",
       "      <td>8.0</td>\n",
       "      <td>3</td>\n",
       "      <td>2017</td>\n",
       "      <td>2017-03</td>\n",
       "      <td>1</td>\n",
       "      <td>3.0</td>\n",
       "      <td>537</td>\n",
       "      <td>1</td>\n",
       "      <td>1</td>\n",
       "      <td>1</td>\n",
       "      <td>86.22</td>\n",
       "    </tr>\n",
       "    <tr>\n",
       "      <th>3</th>\n",
       "      <td>0000f6ccb0745a6a4b88665a16c9f078</td>\n",
       "      <td>43.62</td>\n",
       "      <td>20.0</td>\n",
       "      <td>4.0</td>\n",
       "      <td>10</td>\n",
       "      <td>2017</td>\n",
       "      <td>2017-10</td>\n",
       "      <td>1</td>\n",
       "      <td>4.0</td>\n",
       "      <td>321</td>\n",
       "      <td>1</td>\n",
       "      <td>1</td>\n",
       "      <td>1</td>\n",
       "      <td>43.62</td>\n",
       "    </tr>\n",
       "    <tr>\n",
       "      <th>4</th>\n",
       "      <td>0004aac84e0df4da2b147fca70cf8255</td>\n",
       "      <td>196.89</td>\n",
       "      <td>13.0</td>\n",
       "      <td>6.0</td>\n",
       "      <td>11</td>\n",
       "      <td>2017</td>\n",
       "      <td>2017-11</td>\n",
       "      <td>1</td>\n",
       "      <td>5.0</td>\n",
       "      <td>288</td>\n",
       "      <td>1</td>\n",
       "      <td>1</td>\n",
       "      <td>1</td>\n",
       "      <td>196.89</td>\n",
       "    </tr>\n",
       "    <tr>\n",
       "      <th>...</th>\n",
       "      <td>...</td>\n",
       "      <td>...</td>\n",
       "      <td>...</td>\n",
       "      <td>...</td>\n",
       "      <td>...</td>\n",
       "      <td>...</td>\n",
       "      <td>...</td>\n",
       "      <td>...</td>\n",
       "      <td>...</td>\n",
       "      <td>...</td>\n",
       "      <td>...</td>\n",
       "      <td>...</td>\n",
       "      <td>...</td>\n",
       "      <td>...</td>\n",
       "    </tr>\n",
       "    <tr>\n",
       "      <th>92741</th>\n",
       "      <td>fffcf5a5ff07b0908bd4e2dbc735a684</td>\n",
       "      <td>4134.84</td>\n",
       "      <td>27.0</td>\n",
       "      <td>10.0</td>\n",
       "      <td>6</td>\n",
       "      <td>2017</td>\n",
       "      <td>2017-06</td>\n",
       "      <td>1</td>\n",
       "      <td>5.0</td>\n",
       "      <td>447</td>\n",
       "      <td>2</td>\n",
       "      <td>2</td>\n",
       "      <td>2</td>\n",
       "      <td>4134.84</td>\n",
       "    </tr>\n",
       "    <tr>\n",
       "      <th>92742</th>\n",
       "      <td>fffea47cd6d3cc0a88bd621562a9d061</td>\n",
       "      <td>84.58</td>\n",
       "      <td>30.0</td>\n",
       "      <td>1.0</td>\n",
       "      <td>12</td>\n",
       "      <td>2017</td>\n",
       "      <td>2017-12</td>\n",
       "      <td>1</td>\n",
       "      <td>4.0</td>\n",
       "      <td>262</td>\n",
       "      <td>1</td>\n",
       "      <td>1</td>\n",
       "      <td>1</td>\n",
       "      <td>84.58</td>\n",
       "    </tr>\n",
       "    <tr>\n",
       "      <th>92743</th>\n",
       "      <td>ffff371b4d645b6ecea244b27531430a</td>\n",
       "      <td>112.46</td>\n",
       "      <td>14.0</td>\n",
       "      <td>1.0</td>\n",
       "      <td>2</td>\n",
       "      <td>2017</td>\n",
       "      <td>2017-02</td>\n",
       "      <td>1</td>\n",
       "      <td>5.0</td>\n",
       "      <td>568</td>\n",
       "      <td>1</td>\n",
       "      <td>1</td>\n",
       "      <td>1</td>\n",
       "      <td>112.46</td>\n",
       "    </tr>\n",
       "    <tr>\n",
       "      <th>92744</th>\n",
       "      <td>ffff5962728ec6157033ef9805bacc48</td>\n",
       "      <td>133.69</td>\n",
       "      <td>11.0</td>\n",
       "      <td>5.0</td>\n",
       "      <td>5</td>\n",
       "      <td>2018</td>\n",
       "      <td>2018-05</td>\n",
       "      <td>1</td>\n",
       "      <td>5.0</td>\n",
       "      <td>119</td>\n",
       "      <td>1</td>\n",
       "      <td>1</td>\n",
       "      <td>1</td>\n",
       "      <td>133.69</td>\n",
       "    </tr>\n",
       "    <tr>\n",
       "      <th>92745</th>\n",
       "      <td>ffffd2657e2aad2907e67c3e9daecbeb</td>\n",
       "      <td>71.56</td>\n",
       "      <td>7.0</td>\n",
       "      <td>4.0</td>\n",
       "      <td>5</td>\n",
       "      <td>2017</td>\n",
       "      <td>2017-05</td>\n",
       "      <td>1</td>\n",
       "      <td>5.0</td>\n",
       "      <td>484</td>\n",
       "      <td>1</td>\n",
       "      <td>1</td>\n",
       "      <td>1</td>\n",
       "      <td>71.56</td>\n",
       "    </tr>\n",
       "  </tbody>\n",
       "</table>\n",
       "<p>92746 rows × 14 columns</p>\n",
       "</div>"
      ],
      "text/plain": [
       "                     customer_unique_id  total_montant  delivery_days  \\\n",
       "0      0000366f3b9a7992bf8c76cfdf3221e2         141.90            6.0   \n",
       "1      0000b849f77a49e4a4ce2b2a4ca5be3f          27.19            3.0   \n",
       "2      0000f46a3911fa3c0805444483337064          86.22           25.0   \n",
       "3      0000f6ccb0745a6a4b88665a16c9f078          43.62           20.0   \n",
       "4      0004aac84e0df4da2b147fca70cf8255         196.89           13.0   \n",
       "...                                 ...            ...            ...   \n",
       "92741  fffcf5a5ff07b0908bd4e2dbc735a684        4134.84           27.0   \n",
       "92742  fffea47cd6d3cc0a88bd621562a9d061          84.58           30.0   \n",
       "92743  ffff371b4d645b6ecea244b27531430a         112.46           14.0   \n",
       "92744  ffff5962728ec6157033ef9805bacc48         133.69           11.0   \n",
       "92745  ffffd2657e2aad2907e67c3e9daecbeb          71.56            7.0   \n",
       "\n",
       "       payment_installments  month  year month_year  frequence  Note_Moy_Com  \\\n",
       "0                       8.0      5  2018    2018-05          1           5.0   \n",
       "1                       1.0      5  2018    2018-05          1           4.0   \n",
       "2                       8.0      3  2017    2017-03          1           3.0   \n",
       "3                       4.0     10  2017    2017-10          1           4.0   \n",
       "4                       6.0     11  2017    2017-11          1           5.0   \n",
       "...                     ...    ...   ...        ...        ...           ...   \n",
       "92741                  10.0      6  2017    2017-06          1           5.0   \n",
       "92742                   1.0     12  2017    2017-12          1           4.0   \n",
       "92743                   1.0      2  2017    2017-02          1           5.0   \n",
       "92744                   5.0      5  2018    2018-05          1           5.0   \n",
       "92745                   4.0      5  2017    2017-05          1           5.0   \n",
       "\n",
       "       recence  nbr_commande  Nbr_produits  nmbr_category  panier_moyen  \n",
       "0          112             1             1              1        141.90  \n",
       "1          115             1             1              1         27.19  \n",
       "2          537             1             1              1         86.22  \n",
       "3          321             1             1              1         43.62  \n",
       "4          288             1             1              1        196.89  \n",
       "...        ...           ...           ...            ...           ...  \n",
       "92741      447             2             2              2       4134.84  \n",
       "92742      262             1             1              1         84.58  \n",
       "92743      568             1             1              1        112.46  \n",
       "92744      119             1             1              1        133.69  \n",
       "92745      484             1             1              1         71.56  \n",
       "\n",
       "[92746 rows x 14 columns]"
      ]
     },
     "execution_count": 234,
     "metadata": {},
     "output_type": "execute_result"
    }
   ],
   "source": [
    "order_items_pay"
   ]
  },
  {
   "cell_type": "code",
   "execution_count": 215,
   "id": "49719cf8",
   "metadata": {},
   "outputs": [
    {
     "data": {
      "image/png": "[encoded data removed]",
      "text/plain": [
       "<Figure size 360x216 with 1 Axes>"
      ]
     },
     "metadata": {
      "needs_background": "light"
     },
     "output_type": "display_data"
    }
   ],
   "source": [
    "plt.figure(figsize=(5,3))\n",
    "sns.regplot(data= order_items_pay, y = 'delivery_days', x = 'Note_Moy_Com' ,line_kws={\"color\": \"red\"})\n",
    "plt.suptitle('Corrélation entre le délais de livraison et la satisfaction des client', fontsize = 20, weight = 'bold')\n",
    "plt.show()\n"
   ]
  },
  {
   "cell_type": "code",
   "execution_count": 225,
   "id": "58c5d375",
   "metadata": {},
   "outputs": [
    {
     "name": "stdout",
     "output_type": "stream",
     "text": [
      "\n",
      "Pourcentage des client avec fréquence d'achat> 1 :  2.980182433743773\n"
     ]
    }
   ],
   "source": [
    "\n",
    "print(\"Pourcentage des client avec fréquence d'achat> 1 : \", ((order_items_pay[order_items_pay['frequence']>1].shape[0])/order_items_pay.shape[0])*100)"
   ]
  },
  {
   "cell_type": "code",
   "execution_count": 228,
   "id": "893deea3",
   "metadata": {},
   "outputs": [],
   "source": [
    "rfm_df = order_items_pay.copy()"
   ]
  },
  {
   "cell_type": "markdown",
   "id": "bc3c731c",
   "metadata": {},
   "source": [
    "# Analyse descriptive de RFM dataframe"
   ]
  },
  {
   "cell_type": "code",
   "execution_count": 241,
   "id": "06edd56b",
   "metadata": {},
   "outputs": [
    {
     "data": {
      "text/html": [
       "<div>\n",
       "<style scoped>\n",
       "    .dataframe tbody tr th:only-of-type {\n",
       "        vertical-align: middle;\n",
       "    }\n",
       "\n",
       "    .dataframe tbody tr th {\n",
       "        vertical-align: top;\n",
       "    }\n",
       "\n",
       "    .dataframe thead th {\n",
       "        text-align: right;\n",
       "    }\n",
       "</style>\n",
       "<table border=\"1\" class=\"dataframe\">\n",
       "  <thead>\n",
       "    <tr style=\"text-align: right;\">\n",
       "      <th></th>\n",
       "      <th>delivery_days</th>\n",
       "      <th>payment_installments</th>\n",
       "      <th>frequence</th>\n",
       "      <th>Note_Moy_Com</th>\n",
       "      <th>recence</th>\n",
       "      <th>panier_moyen</th>\n",
       "    </tr>\n",
       "  </thead>\n",
       "  <tbody>\n",
       "    <tr>\n",
       "      <th>count</th>\n",
       "      <td>92746.000000</td>\n",
       "      <td>92746.000000</td>\n",
       "      <td>92746.000000</td>\n",
       "      <td>92746.000000</td>\n",
       "      <td>92746.000000</td>\n",
       "      <td>92746.000000</td>\n",
       "    </tr>\n",
       "    <tr>\n",
       "      <th>mean</th>\n",
       "      <td>12.060600</td>\n",
       "      <td>2.898307</td>\n",
       "      <td>1.033177</td>\n",
       "      <td>4.153367</td>\n",
       "      <td>237.798245</td>\n",
       "      <td>204.376237</td>\n",
       "    </tr>\n",
       "    <tr>\n",
       "      <th>std</th>\n",
       "      <td>9.466231</td>\n",
       "      <td>2.675020</td>\n",
       "      <td>0.208425</td>\n",
       "      <td>1.280530</td>\n",
       "      <td>152.591525</td>\n",
       "      <td>603.916800</td>\n",
       "    </tr>\n",
       "    <tr>\n",
       "      <th>min</th>\n",
       "      <td>0.000000</td>\n",
       "      <td>0.000000</td>\n",
       "      <td>1.000000</td>\n",
       "      <td>1.000000</td>\n",
       "      <td>1.000000</td>\n",
       "      <td>9.590000</td>\n",
       "    </tr>\n",
       "    <tr>\n",
       "      <th>25%</th>\n",
       "      <td>6.000000</td>\n",
       "      <td>1.000000</td>\n",
       "      <td>1.000000</td>\n",
       "      <td>4.000000</td>\n",
       "      <td>114.000000</td>\n",
       "      <td>63.150000</td>\n",
       "    </tr>\n",
       "    <tr>\n",
       "      <th>50%</th>\n",
       "      <td>10.000000</td>\n",
       "      <td>2.000000</td>\n",
       "      <td>1.000000</td>\n",
       "      <td>5.000000</td>\n",
       "      <td>219.000000</td>\n",
       "      <td>110.700000</td>\n",
       "    </tr>\n",
       "    <tr>\n",
       "      <th>75%</th>\n",
       "      <td>15.000000</td>\n",
       "      <td>4.000000</td>\n",
       "      <td>1.000000</td>\n",
       "      <td>5.000000</td>\n",
       "      <td>346.000000</td>\n",
       "      <td>195.690000</td>\n",
       "    </tr>\n",
       "    <tr>\n",
       "      <th>max</th>\n",
       "      <td>208.000000</td>\n",
       "      <td>24.000000</td>\n",
       "      <td>15.000000</td>\n",
       "      <td>5.000000</td>\n",
       "      <td>695.000000</td>\n",
       "      <td>109312.640000</td>\n",
       "    </tr>\n",
       "  </tbody>\n",
       "</table>\n",
       "</div>"
      ],
      "text/plain": [
       "       delivery_days  payment_installments     frequence  Note_Moy_Com  \\\n",
       "count   92746.000000          92746.000000  92746.000000  92746.000000   \n",
       "mean       12.060600              2.898307      1.033177      4.153367   \n",
       "std         9.466231              2.675020      0.208425      1.280530   \n",
       "min         0.000000              0.000000      1.000000      1.000000   \n",
       "25%         6.000000              1.000000      1.000000      4.000000   \n",
       "50%        10.000000              2.000000      1.000000      5.000000   \n",
       "75%        15.000000              4.000000      1.000000      5.000000   \n",
       "max       208.000000             24.000000     15.000000      5.000000   \n",
       "\n",
       "            recence   panier_moyen  \n",
       "count  92746.000000   92746.000000  \n",
       "mean     237.798245     204.376237  \n",
       "std      152.591525     603.916800  \n",
       "min        1.000000       9.590000  \n",
       "25%      114.000000      63.150000  \n",
       "50%      219.000000     110.700000  \n",
       "75%      346.000000     195.690000  \n",
       "max      695.000000  109312.640000  "
      ]
     },
     "execution_count": 241,
     "metadata": {},
     "output_type": "execute_result"
    }
   ],
   "source": [
    "rfm_df[['delivery_days', 'payment_installments', 'frequence', 'Note_Moy_Com', 'recence', 'panier_moyen']].describe()"
   ]
  },
  {
   "cell_type": "markdown",
   "id": "4019c8f9",
   "metadata": {},
   "source": [
    "### Bilan sur l'analyse exploiratoire des RFM data :\n",
    "\n",
    "- Le délai moyen de livraison est de 12 jours \n",
    "- La moyenne de recence de consulter le site est de 238 jour\n",
    "\n"
   ]
  },
  {
   "cell_type": "code",
   "execution_count": 237,
   "id": "0a77da06",
   "metadata": {},
   "outputs": [],
   "source": [
    "#Exporter le dataframe pour la modélisation \n",
    "rfm_df.to_csv('rfm_df.csv')"
   ]
  },
  {
   "cell_type": "markdown",
   "id": "bfa2c2b2",
   "metadata": {},
   "source": [
    "## Conclusion \n",
    "- On a effectué une analyse exploiratoire des jeux de donnée contenant plusieurs informations sur les client de site e-commerce Olisat. \n",
    "- Seulement 3 % des clients ont réalisé plusieurs achats\n",
    "- La fréquence d'achat et la récence de consulter le site de e-commerce montre que les clients font des achats très spécifiques."
   ]
  },
  {
   "cell_type": "markdown",
   "id": "f0e6dec9",
   "metadata": {},
   "source": [
    "# Fin de notebook de EDA"
   ]
  },
  {
   "cell_type": "code",
   "execution_count": null,
   "id": "0dbabb30",
   "metadata": {},
   "outputs": [],
   "source": []
  },
  {
   "cell_type": "code",
   "execution_count": null,
   "id": "ffa2f154",
   "metadata": {},
   "outputs": [],
   "source": []
  }
 ],
 "metadata": {
  "kernelspec": {
   "display_name": "Python 3 (ipykernel)",
   "language": "python",
   "name": "python3"
  },
  "language_info": {
   "codemirror_mode": {
    "name": "ipython",
    "version": 3
   },
   "file_extension": ".py",
   "mimetype": "text/x-python",
   "name": "python",
   "nbconvert_exporter": "python",
   "pygments_lexer": "ipython3",
   "version": "3.8.8"
  }
 },
 "nbformat": 4,
 "nbformat_minor": 5
}
